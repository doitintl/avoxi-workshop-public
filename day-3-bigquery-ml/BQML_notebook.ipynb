{
 "cells": [
  {
   "cell_type": "markdown",
   "id": "aa0e0da8-0921-4d82-8bf0-4412e8d94880",
   "metadata": {},
   "source": [
    "### Create autoencoder model"
   ]
  },
  {
   "cell_type": "code",
   "execution_count": null,
   "id": "dff8e283-e211-4f7b-a0d8-fb565966ac23",
   "metadata": {},
   "outputs": [],
   "source": [
    "%%bigquery\n",
    "CREATE MODEL `gurkomal-playground.avoxi_workshop.autoencoder_v1`\n",
    "OPTIONS(\n",
    "  model_type='AUTOENCODER',\n",
    "  batch_size=32,\n",
    "  hidden_units=[8, 4, 2, 4, 8],\n",
    "  activation_fn='RELU',\n",
    "  optimizer='ADAM',\n",
    "  learn_rate=0.01,\n",
    "  max_iterations=10,\n",
    "  early_stop=TRUE\n",
    ") AS (\n",
    "    SELECT\n",
    "        packet_loss,\n",
    "        duration,\n",
    "        jitter,\n",
    "        mean_opinion_score\n",
    "    FROM\n",
    "        `gurkomal-playground.avoxi_workshop.anomaly_labelled_data`\n",
    ");"
   ]
  },
  {
   "cell_type": "markdown",
   "id": "0f830424-e6b3-4c0b-99ec-bf9830f353cc",
   "metadata": {},
   "source": [
    "### Hyperparameter tuning autoencoder"
   ]
  },
  {
   "cell_type": "code",
   "execution_count": null,
   "id": "bec09d07-4ceb-41f7-873e-e226b6ef0a5a",
   "metadata": {},
   "outputs": [],
   "source": [
    "%%bigquery\n",
    "CREATE OR REPLACE MODEL `avoxi_workshop.autoencoder_v1`\n",
    "    OPTIONS(\n",
    "        MODEL_TYPE='AUTOENCODER',\n",
    "        BATCH_SIZE=32,\n",
    "        HIDDEN_UNITS=HPARAM_CANDIDATES([STRUCT([8, 4, 2, 4, 8])]),\n",
    "        HPARAM_TUNING_OBJECTIVES=['MEAN_SQUARED_ERROR'],\n",
    "        HPARAM_TUNING_ALGORITHM='VIZIER_DEFAULT',\n",
    "        NUM_TRIALS=4,\n",
    "        ACTIVATION_FN = HPARAM_CANDIDATES(['RELU', 'SIGMOID']),\n",
    "        OPTIMIZER = HPARAM_CANDIDATES(['ADAM', 'SGD'])\n",
    ") AS (\n",
    " SELECT\n",
    "   packet_loss,\n",
    "   duration,\n",
    "   jitter,\n",
    "   mean_opinion_score\n",
    " FROM\n",
    "   `gurkomal-playground.avoxi_workshop.anomaly_labelled_data_v2`\n",
    ");"
   ]
  },
  {
   "cell_type": "markdown",
   "id": "9c1f41ef-5474-47b7-8de8-117fc614433b",
   "metadata": {},
   "source": [
    "### Inspect reconstruction loss of model"
   ]
  },
  {
   "cell_type": "code",
   "execution_count": null,
   "id": "9c0cec3b-1305-4496-915e-ab4dbcbed2a5",
   "metadata": {},
   "outputs": [],
   "source": [
    "%%bigquery\n",
    "SELECT *\n",
    "FROM ML.RECONSTRUCTION_LOSS(\n",
    "MODEL `avoxi_workshop.autoencoder_v1`,\n",
    "    (SELECT\n",
    "     duration,\n",
    "     jitter,\n",
    "     packet_loss,\n",
    "     mean_opinion_score,\n",
    "     is_anomaly\n",
    "   FROM `gurkomal-playground.avoxi_workshop.anomaly_labelled_data_v2`),\n",
    "   STRUCT(\n",
    "     4 AS trial_id)\n",
    " )\n",
    " WHERE is_anomaly = FALSE AND mean_squared_log_error < 1"
   ]
  },
  {
   "cell_type": "markdown",
   "id": "13f00a8e-385c-4ffc-8aaf-083746eba74e",
   "metadata": {},
   "source": [
    "### Review all trial results from hyperparameter tuning job"
   ]
  },
  {
   "cell_type": "code",
   "execution_count": null,
   "id": "8ac1064c-d5cb-46d1-b616-1af20440e34c",
   "metadata": {},
   "outputs": [],
   "source": [
    "%%bigquery\n",
    "SELECT\n",
    "   *\n",
    "FROM\n",
    "   ML.TRIAL_INFO(MODEL `avoxi_workshop.autoencoder_v1`)"
   ]
  },
  {
   "cell_type": "markdown",
   "id": "0992b5f3-29a9-4e26-aa81-71ed9557634b",
   "metadata": {},
   "source": [
    "### Detect Anomalies using autoencoder and store as results table"
   ]
  },
  {
   "cell_type": "code",
   "execution_count": null,
   "id": "8fb186b7-a574-492c-9251-a8b3b06ace9c",
   "metadata": {},
   "outputs": [],
   "source": [
    "%%bigquery\n",
    "CREATE TABLE avoxi_workshop.results AS(\n",
    "SELECT\n",
    "  *\n",
    "FROM\n",
    "  ML.DETECT_ANOMALIES(MODEL `avoxi_workshop.autoencoder_v1`,\n",
    "    STRUCT(0.04 AS contamination),\n",
    "    TABLE `gurkomal-playground.avoxi_workshop.anomaly_labelled_data_v3`))"
   ]
  },
  {
   "cell_type": "markdown",
   "id": "4a0b1a61-c321-4fba-9b9e-73e7124bfd6c",
   "metadata": {},
   "source": [
    "### Validate anomalies - predicted vs actual results"
   ]
  },
  {
   "cell_type": "code",
   "execution_count": null,
   "id": "e14c8623-c344-4382-87d3-8bfc4e9f93e8",
   "metadata": {},
   "outputs": [],
   "source": [
    "%%%bigquery\n",
    "SELECT\n",
    "  p.is_anomaly as predicted_result,\n",
    "  a.is_anomaly as actual_result,\n",
    "  p.`164_from_caller_id`,\n",
    "  p.`164_to_caller_id`\n",
    "FROM `gurkomal-playground.avoxi_workshop.anomaly_labelled_data_v2` a\n",
    "LEFT JOIN `gurkomal-playground.avoxi_workshop.results` p\n",
    "ON\n",
    "  p.`164_from_caller_id` = a.`164_from_caller_id` \n",
    "  AND p.`164_to_caller_id`= a.`164_to_caller_id`\n",
    "WHERE\n",
    "  p.is_anomaly= a.is_anomaly"
   ]
  },
  {
   "cell_type": "markdown",
   "id": "4747d926-3ea6-4df7-b592-ff7056a6fcbc",
   "metadata": {},
   "source": [
    "### Gemini 1.5 Pro Text generation\n",
    "* Using only the table values & schema, generate potential anomalies found (Country and Caller ID)"
   ]
  },
  {
   "cell_type": "code",
   "execution_count": null,
   "id": "2df6a082-6662-4366-8143-fefe41b6f9be",
   "metadata": {},
   "outputs": [],
   "source": [
    "%%bigquery\n",
    "WITH TableA_Aggregated AS (\n",
    "  SELECT STRING_AGG(\n",
    "    concat(CAST(trial_id as STRING),',',CAST(is_anomaly as STRING),',',CAST(mean_squared_error as STRING),',',CAST(start_time as STRING),',',CAST(`164_from_caller_id` as STRING),',',CAST(`164_to_caller_id` as STRING),',',CAST(data_center as STRING),',',CAST(duration as STRING),',',CAST(packet_loss as STRING),',',CAST(mean_opinion_score as STRING),',',CAST(jitter as STRING),',',CAST(day as STRING),',',CAST(hour as STRING),',',CAST(from_country as STRING),',',CAST(to_country as STRING))\n",
    "    ) AS all_rows\n",
    "  FROM `gurkomal-playground.avoxi_workshop.results` t\n",
    "),\n",
    "result_schema AS (\n",
    "  SELECT\n",
    "  STRING_AGG(\n",
    "    FORMAT(\"%s %s\", column_name, data_type), \n",
    "    \", \" \n",
    "    ORDER BY ordinal_position\n",
    "  ) AS schema_string\n",
    "  FROM\n",
    "    `gurkomal-playground.avoxi_workshop`.INFORMATION_SCHEMA.COLUMNS\n",
    "  WHERE\n",
    "    table_name = \"results\"\n",
    ")\n",
    "SELECT *\n",
    "FROM\n",
    "  ML.GENERATE_TEXT(\n",
    "    MODEL `gurkomal-playground.avoxi_workshop.gemini_pro`,\n",
    "    (\n",
    "      SELECT CONCAT('Given the following table output and schema, summarize which countries and caller IDs were classified as anomalies\\n', all_rows,schema_string) AS PROMPT\n",
    "      FROM TableA_Aggregated, result_schema\n",
    "    ),\n",
    "    STRUCT(\n",
    "      0.8 AS temperature,\n",
    "      1024 AS max_output_tokens,\n",
    "      0.95 AS top_p,\n",
    "      40 AS top_k\n",
    "    )\n",
    "  )"
   ]
  },
  {
   "cell_type": "code",
   "execution_count": null,
   "id": "1cc9bac8-3eee-4ea2-8f32-4a33803a8734",
   "metadata": {},
   "outputs": [],
   "source": [
    "# %%bigquery\n",
    "# SELECT\n",
    "#    *\n",
    "# FROM\n",
    "#    ML.PREDICT(MODEL `avoxi_workshop.autoencoder_v1`,\n",
    "#      TABLE `gurkomal-playground.avoxi_workshop.anomaly_labelled_data_v2`\n",
    "# )"
   ]
  }
 ],
 "metadata": {
  "environment": {
   "kernel": "conda-base-py",
   "name": "workbench-notebooks.m123",
   "type": "gcloud",
   "uri": "us-docker.pkg.dev/deeplearning-platform-release/gcr.io/workbench-notebooks:m123"
  },
  "kernelspec": {
   "display_name": "Python 3 (ipykernel) (Local)",
   "language": "python",
   "name": "conda-base-py"
  },
  "language_info": {
   "codemirror_mode": {
    "name": "ipython",
    "version": 3
   },
   "file_extension": ".py",
   "mimetype": "text/x-python",
   "name": "python",
   "nbconvert_exporter": "python",
   "pygments_lexer": "ipython3",
   "version": "3.10.14"
  }
 },
 "nbformat": 4,
 "nbformat_minor": 5
}
