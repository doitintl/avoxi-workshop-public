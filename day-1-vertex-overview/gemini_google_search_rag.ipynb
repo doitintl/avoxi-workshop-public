{
 "cells": [
  {
   "cell_type": "code",
   "execution_count": 1,
   "id": "e8a2e243-7c33-453a-b92c-3ea8f6ee4be6",
   "metadata": {
    "tags": []
   },
   "outputs": [],
   "source": [
    "PROJECT_ID = \"gurkomal-playground\"\n",
    "LOCATION =\"us-central1\""
   ]
  },
  {
   "cell_type": "code",
   "execution_count": 5,
   "id": "6297f133-92a7-4a8e-bc7d-ed4696b699a2",
   "metadata": {
    "tags": []
   },
   "outputs": [
    {
     "name": "stdout",
     "output_type": "stream",
     "text": [
      "Here's how to figure this out:\n",
      "\n",
      "* **Halloween is always on October 31st.**\n",
      "* **2024 is a leap year.**  This doesn't affect the day of the week Halloween falls on.\n",
      "\n",
      "Since Halloween is always on the same date, and leap years don't change the day of the week, Halloween in 2024 will be on a **Thursday**. \n",
      "\n"
     ]
    }
   ],
   "source": [
    "import vertexai\n",
    "from vertexai.generative_models import GenerativeModel\n",
    "\n",
    "vertexai.init(project=PROJECT_ID, location=LOCATION)\n",
    "\n",
    "model = GenerativeModel(\"gemini-1.5-flash-001\")\n",
    "\n",
    "response = model.generate_content(\n",
    "    \"The day before Halloween this year is Wednesday. What day is halloween in the year 2024\"\n",
    ")\n",
    "\n",
    "print(response.text)"
   ]
  },
  {
   "cell_type": "code",
   "execution_count": 4,
   "id": "3c377917-c6d8-4d53-9a5e-ea2eb90f65e1",
   "metadata": {
    "tags": []
   },
   "outputs": [
    {
     "name": "stdout",
     "output_type": "stream",
     "text": [
      "Halloween in 2024 will be on **Thursday, October 31st**. \n",
      "\n",
      "It's always on the same date, but the day of the week changes each year. \n",
      "\n"
     ]
    }
   ],
   "source": [
    "import vertexai\n",
    "\n",
    "from vertexai.generative_models import (\n",
    "    GenerationConfig,\n",
    "    GenerativeModel,\n",
    "    Tool,\n",
    "    grounding,\n",
    ")\n",
    "\n",
    "vertexai.init(project=PROJECT_ID, location=LOCATION)\n",
    "\n",
    "model = GenerativeModel(\"gemini-1.5-flash-001\")\n",
    "\n",
    "# Use Google Search for grounding\n",
    "tool = Tool.from_google_search_retrieval(grounding.GoogleSearchRetrieval())\n",
    "\n",
    "prompt = \"What day is halloween this year?\"\n",
    "response = model.generate_content(\n",
    "    prompt,\n",
    "    tools=[tool],\n",
    "    generation_config=GenerationConfig(\n",
    "        temperature=0.0,\n",
    "    ),\n",
    ")\n",
    "\n",
    "print(response.text)"
   ]
  }
 ],
 "metadata": {
  "environment": {
   "kernel": "conda-base-py",
   "name": "workbench-notebooks.m123",
   "type": "gcloud",
   "uri": "us-docker.pkg.dev/deeplearning-platform-release/gcr.io/workbench-notebooks:m123"
  },
  "kernelspec": {
   "display_name": "Python 3 (ipykernel) (Local)",
   "language": "python",
   "name": "conda-base-py"
  },
  "language_info": {
   "codemirror_mode": {
    "name": "ipython",
    "version": 3
   },
   "file_extension": ".py",
   "mimetype": "text/x-python",
   "name": "python",
   "nbconvert_exporter": "python",
   "pygments_lexer": "ipython3",
   "version": "3.10.14"
  }
 },
 "nbformat": 4,
 "nbformat_minor": 5
}
