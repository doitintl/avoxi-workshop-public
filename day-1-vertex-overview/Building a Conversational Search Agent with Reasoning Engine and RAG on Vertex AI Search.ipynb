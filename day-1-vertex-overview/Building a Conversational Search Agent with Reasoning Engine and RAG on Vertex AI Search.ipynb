{
 "cells": [
  {
   "cell_type": "code",
   "execution_count": 1,
   "id": "dae7d002-5fc5-40c2-b193-994dc183ba0d",
   "metadata": {
    "tags": []
   },
   "outputs": [
    {
     "name": "stdout",
     "output_type": "stream",
     "text": [
      "\u001b[31mERROR: pip's dependency resolver does not currently take into account all the packages that are installed. This behaviour is the source of the following dependency conflicts.\n",
      "cloud-tpu-client 0.10 requires google-api-python-client==1.8.0, but you have google-api-python-client 2.142.0 which is incompatible.\u001b[0m\u001b[31m\n",
      "\u001b[0m"
     ]
    }
   ],
   "source": [
    "!pip install --upgrade --quiet \\\n",
    "    \"google-cloud-aiplatform[langchain,reasoningengine]\" \\\n",
    "    cloudpickle==3.0.0 \\\n",
    "    pydantic==2.7.4 \\\n",
    "    langchain-google-community \\\n",
    "    google-cloud-discoveryengine \\\n",
    "    google-api-python-client"
   ]
  },
  {
   "cell_type": "code",
   "execution_count": null,
   "id": "3903d034-7c35-4e31-8223-e302121e7d04",
   "metadata": {},
   "outputs": [],
   "source": [
    "import IPython\n",
    "\n",
    "app = IPython.Application.instance()\n",
    "app.kernel.do_shutdown(True)"
   ]
  },
  {
   "cell_type": "code",
   "execution_count": 2,
   "id": "5fa5efe4-c489-4224-b98c-1d1976537f05",
   "metadata": {
    "tags": []
   },
   "outputs": [],
   "source": [
    "PROJECT_ID = \"gurkomal-playground\"  \n",
    "LOCATION = \"us-central1\"\n",
    "STAGING_BUCKET = \"gs://avoxi_workshop_bucket\"  \n",
    "\n",
    "import vertexai\n",
    "\n",
    "vertexai.init(project=PROJECT_ID, location=LOCATION, staging_bucket=STAGING_BUCKET)"
   ]
  },
  {
   "cell_type": "code",
   "execution_count": 3,
   "id": "0cb20951-9c43-48ee-b050-6204d2ca5235",
   "metadata": {
    "tags": []
   },
   "outputs": [],
   "source": [
    "from googleapiclient import discovery\n",
    "from IPython.display import display, Markdown\n",
    "from langchain.agents.format_scratchpad.tools import format_to_tool_messages\n",
    "from langchain_core import prompts\n",
    "from langchain.memory import ChatMessageHistory\n",
    "from vertexai.preview import reasoning_engines"
   ]
  },
  {
   "cell_type": "code",
   "execution_count": 4,
   "id": "df02465c-2d6d-498e-b617-8723c69ff985",
   "metadata": {
    "tags": []
   },
   "outputs": [],
   "source": [
    "model = \"gemini-1.5-pro-001\""
   ]
  },
  {
   "cell_type": "code",
   "execution_count": 5,
   "id": "972793e5-1d90-4706-8b09-641474af9020",
   "metadata": {
    "tags": []
   },
   "outputs": [],
   "source": [
    "DATA_STORE_ID = \"data-store_1724701968933\"\n",
    "LOCATION_ID = \"global\""
   ]
  },
  {
   "cell_type": "code",
   "execution_count": 6,
   "id": "1ce4d6d6-2cbf-4e52-a9c9-6a5609c45c61",
   "metadata": {
    "tags": []
   },
   "outputs": [],
   "source": [
    "def search_kaggle_movies(query: str) -> str:\n",
    "    \"\"\"Search across records in the Kaggle Movies data set.\"\"\"\n",
    "    from langchain_google_community import VertexAISearchRetriever\n",
    "\n",
    "    retriever = VertexAISearchRetriever(\n",
    "        project_id=PROJECT_ID,\n",
    "        data_store_id=DATA_STORE_ID,\n",
    "        location_id=LOCATION_ID,\n",
    "        engine_data_type=1,\n",
    "        max_documents=10,\n",
    "    )\n",
    "\n",
    "    result = str(retriever.invoke(query))\n",
    "    return result"
   ]
  },
  {
   "cell_type": "code",
   "execution_count": 24,
   "id": "d1b09c4f-52d3-4f1f-8ea7-9e26f2deb48c",
   "metadata": {
    "tags": []
   },
   "outputs": [
    {
     "data": {
      "text/plain": [
       "'[Document(metadata={\\'id\\': \\'dd68385e2b3e0a0ddd497d5eb1a9dcc9\\', \\'name\\': \\'projects/506365831141/locations/global/collections/default_collection/dataStores/data-store_1724701968933/branches/0/documents/dd68385e2b3e0a0ddd497d5eb1a9dcc9\\'}, page_content=\\'{\"id\": \"675\", \"tagline\": \"Evil Must Be Confronted.\", \"runtime\": \"138\", \"budget\": \"150000000\", \"poster_path\": \"https://image.tmdb.org/t/p/original/5aOyriWkPec0zUDxmHFP9qMmBaj.jpg\", \"original_language\": \"en\", \"status\": \"Released\", \"popularity\": 21.3643, \"homepage\": \"http://www.harrypotterorderofthephoenix.com/\", \"belongs_to_collection\": \"{\\\\\\'id\\\\\\': 1241, \\\\\\'name\\\\\\': \\\\\\'Harry Potter Collection\\\\\\', \\\\\\'poster_path\\\\\\': \\\\\\'/8Xmkc1HvCOpMlbFvVabrtr6HAsp.jpg\\\\\\', \\\\\\'backdrop_path\\\\\\': \\\\\\'/wfnMt6LGqYHcNyOfsuusw5lX3bL.jpg\\\\\\'}\", \"original_title\": \"Harry Potter and the Order of the Phoenix\", \"vote_count\": \"5633\", \"spoken_languages\": \"[{\\\\\\'iso_639_1\\\\\\': \\\\\\'en\\\\\\', \\\\\\'name\\\\\\': \\\\\\'English\\\\\\'}]\", \"imdb_id\": \"tt0373889\", \"release_date\": \"2007-06-28\", \"production_countries\": \"[{\\\\\\'iso_3166_1\\\\\\': \\\\\\'GB\\\\\\', \\\\\\'name\\\\\\': \\\\\\'United Kingdom\\\\\\'}, {\\\\\\'iso_3166_1\\\\\\': \\\\\\'US\\\\\\', \\\\\\'name\\\\\\': \\\\\\'United States of America\\\\\\'}]\", \"title\": \"Harry Potter and the Order of the Phoenix\", \"revenue\": \"938212738\", \"production_companies\": \"[{\\\\\\'name\\\\\\': \\\\\\'Warner Bros.\\\\\\', \\\\\\'id\\\\\\': 6194}, {\\\\\\'name\\\\\\': \\\\\\'Heyday Films\\\\\\', \\\\\\'id\\\\\\': 7364}]\", \"overview\": \"Returning for his fifth year of study at Hogwarts, Harry is stunned to find that his warnings about the return of Lord Voldemort have been ignored. Left with no choice, Harry takes matters into his own hands, training a small group of students \\\\\\\\u2013 dubbed \\\\\\'Dumbledore\\\\\\'s Army\\\\\\' \\\\\\\\u2013 to defend themselves against the dark arts.\", \"genres\": \"[{\\\\\\'id\\\\\\': 12, \\\\\\'name\\\\\\': \\\\\\'Adventure\\\\\\'}, {\\\\\\'id\\\\\\': 14, \\\\\\'name\\\\\\': \\\\\\'Fantasy\\\\\\'}, {\\\\\\'id\\\\\\': 10751, \\\\\\'name\\\\\\': \\\\\\'Family\\\\\\'}, {\\\\\\'id\\\\\\': 9648, \\\\\\'name\\\\\\': \\\\\\'Mystery\\\\\\'}]\", \"vote_average\": 7.4}\\'), Document(metadata={\\'id\\': \\'29ee1c310b586c64c91144d25c812e67\\', \\'name\\': \\'projects/506365831141/locations/global/collections/default_collection/dataStores/data-store_1724701968933/branches/0/documents/29ee1c310b586c64c91144d25c812e67\\'}, page_content=\\'{\"budget\": \"125000000\", \"poster_path\": \"https://image.tmdb.org/t/p/original/wuMc08IPKEatf9rnMNXvIDxqP4W.jpg\", \"runtime\": \"152\", \"tagline\": \"Let the Magic Begin.\", \"id\": \"671\", \"original_language\": \"en\", \"status\": \"Released\", \"popularity\": 38.187238, \"homepage\": \"http://harrypotter.warnerbros.com/harrypotterandthedeathlyhallows/mainsite/index.html\", \"belongs_to_collection\": \"{\\\\\\'id\\\\\\': 1241, \\\\\\'name\\\\\\': \\\\\\'Harry Potter Collection\\\\\\', \\\\\\'poster_path\\\\\\': \\\\\\'/8Xmkc1HvCOpMlbFvVabrtr6HAsp.jpg\\\\\\', \\\\\\'backdrop_path\\\\\\': \\\\\\'/wfnMt6LGqYHcNyOfsuusw5lX3bL.jpg\\\\\\'}\", \"original_title\": \"Harry Potter and the Philosopher\\\\\\'s Stone\", \"vote_count\": \"7188\", \"spoken_languages\": \"[{\\\\\\'iso_639_1\\\\\\': \\\\\\'en\\\\\\', \\\\\\'name\\\\\\': \\\\\\'English\\\\\\'}]\", \"release_date\": \"2001-11-16\", \"imdb_id\": \"tt0241527\", \"production_countries\": \"[{\\\\\\'iso_3166_1\\\\\\': \\\\\\'GB\\\\\\', \\\\\\'name\\\\\\': \\\\\\'United Kingdom\\\\\\'}, {\\\\\\'iso_3166_1\\\\\\': \\\\\\'US\\\\\\', \\\\\\'name\\\\\\': \\\\\\'United States of America\\\\\\'}]\", \"overview\": \"Harry Potter has lived under the stairs at his aunt and uncle\\\\\\'s house his whole life. But on his 11th birthday, he learns he\\\\\\'s a powerful wizard -- with a place waiting for him at the Hogwarts School of Witchcraft and Wizardry. As he learns to harness his newfound powers with the help of the school\\\\\\'s kindly headmaster, Harry uncovers the truth about his parents\\\\\\' deaths -- and about the villain who\\\\\\'s to blame.\", \"revenue\": \"976475550\", \"title\": \"Harry Potter and the Philosopher\\\\\\'s Stone\", \"production_companies\": \"[{\\\\\\'name\\\\\\': \\\\\\'1492 Pictures\\\\\\', \\\\\\'id\\\\\\': 436}, {\\\\\\'name\\\\\\': \\\\\\'Warner Bros.\\\\\\', \\\\\\'id\\\\\\': 6194}, {\\\\\\'name\\\\\\': \\\\\\'Heyday Films\\\\\\', \\\\\\'id\\\\\\': 7364}]\", \"genres\": \"[{\\\\\\'id\\\\\\': 12, \\\\\\'name\\\\\\': \\\\\\'Adventure\\\\\\'}, {\\\\\\'id\\\\\\': 14, \\\\\\'name\\\\\\': \\\\\\'Fantasy\\\\\\'}, {\\\\\\'id\\\\\\': 10751, \\\\\\'name\\\\\\': \\\\\\'Family\\\\\\'}]\", \"vote_average\": 7.5}\\'), Document(metadata={\\'id\\': \\'fb7ebcb091e88152badcce4ddab9fcc5\\', \\'name\\': \\'projects/506365831141/locations/global/collections/default_collection/dataStores/data-store_1724701968933/branches/0/documents/fb7ebcb091e88152badcce4ddab9fcc5\\'}, page_content=\\'{\"id\": \"672\", \"poster_path\": \"https://image.tmdb.org/t/p/original/sdEOH0992YZ0QSxgXNIGLq1ToUi.jpg\", \"runtime\": \"161\", \"tagline\": \"Hogwarts is back in session.\", \"budget\": \"100000000\", \"original_language\": \"en\", \"status\": \"Released\", \"popularity\": 29.741452, \"belongs_to_collection\": \"{\\\\\\'id\\\\\\': 1241, \\\\\\'name\\\\\\': \\\\\\'Harry Potter Collection\\\\\\', \\\\\\'poster_path\\\\\\': \\\\\\'/8Xmkc1HvCOpMlbFvVabrtr6HAsp.jpg\\\\\\', \\\\\\'backdrop_path\\\\\\': \\\\\\'/wfnMt6LGqYHcNyOfsuusw5lX3bL.jpg\\\\\\'}\", \"original_title\": \"Harry Potter and the Chamber of Secrets\", \"vote_count\": \"5966\", \"spoken_languages\": \"[{\\\\\\'iso_639_1\\\\\\': \\\\\\'en\\\\\\', \\\\\\'name\\\\\\': \\\\\\'English\\\\\\'}]\", \"release_date\": \"2002-11-13\", \"imdb_id\": \"tt0295297\", \"production_countries\": \"[{\\\\\\'iso_3166_1\\\\\\': \\\\\\'DE\\\\\\', \\\\\\'name\\\\\\': \\\\\\'Germany\\\\\\'}, {\\\\\\'iso_3166_1\\\\\\': \\\\\\'GB\\\\\\', \\\\\\'name\\\\\\': \\\\\\'United Kingdom\\\\\\'}, {\\\\\\'iso_3166_1\\\\\\': \\\\\\'US\\\\\\', \\\\\\'name\\\\\\': \\\\\\'United States of America\\\\\\'}]\", \"title\": \"Harry Potter and the Chamber of Secrets\", \"revenue\": \"876688482\", \"production_companies\": \"[{\\\\\\'name\\\\\\': \\\\\\'1492 Pictures\\\\\\', \\\\\\'id\\\\\\': 436}, {\\\\\\'name\\\\\\': \\\\\\'Heyday films\\\\\\', \\\\\\'id\\\\\\': 437}, {\\\\\\'name\\\\\\': \\\\\\'Warner Bros.\\\\\\', \\\\\\'id\\\\\\': 6194}]\", \"overview\": \"Ignoring threats to his life, Harry returns to Hogwarts to investigate \\\\\\\\u2013 aided by Ron and Hermione \\\\\\\\u2013 a mysterious series of attacks.\", \"vote_average\": 7.4, \"genres\": \"[{\\\\\\'id\\\\\\': 12, \\\\\\'name\\\\\\': \\\\\\'Adventure\\\\\\'}, {\\\\\\'id\\\\\\': 14, \\\\\\'name\\\\\\': \\\\\\'Fantasy\\\\\\'}, {\\\\\\'id\\\\\\': 10751, \\\\\\'name\\\\\\': \\\\\\'Family\\\\\\'}]\"}\\'), Document(metadata={\\'id\\': \\'ffd182e05dda67f8f4faefd18a9a0d11\\', \\'name\\': \\'projects/506365831141/locations/global/collections/default_collection/dataStores/data-store_1724701968933/branches/0/documents/ffd182e05dda67f8f4faefd18a9a0d11\\'}, page_content=\\'{\"id\": \"674\", \"poster_path\": \"https://image.tmdb.org/t/p/original/6sASqcdrEHXxUhA3nFpjrRecPD2.jpg\", \"tagline\": \"Dark And Difficult Times Lie Ahead.\", \"runtime\": \"157\", \"budget\": \"150000000\", \"original_language\": \"en\", \"status\": \"Released\", \"homepage\": \"http://harrypotter.warnerbros.com/\", \"popularity\": 24.903058, \"belongs_to_collection\": \"{\\\\\\'id\\\\\\': 1241, \\\\\\'name\\\\\\': \\\\\\'Harry Potter Collection\\\\\\', \\\\\\'poster_path\\\\\\': \\\\\\'/8Xmkc1HvCOpMlbFvVabrtr6HAsp.jpg\\\\\\', \\\\\\'backdrop_path\\\\\\': \\\\\\'/wfnMt6LGqYHcNyOfsuusw5lX3bL.jpg\\\\\\'}\", \"original_title\": \"Harry Potter and the Goblet of Fire\", \"release_date\": \"2005-11-05\", \"imdb_id\": \"tt0330373\", \"spoken_languages\": \"[{\\\\\\'iso_639_1\\\\\\': \\\\\\'en\\\\\\', \\\\\\'name\\\\\\': \\\\\\'English\\\\\\'}, {\\\\\\'iso_639_1\\\\\\': \\\\\\'fr\\\\\\', \\\\\\'name\\\\\\': \\\\\\'Fran\\\\\\\\u00e7ais\\\\\\'}]\", \"vote_count\": \"5758\", \"production_countries\": \"[{\\\\\\'iso_3166_1\\\\\\': \\\\\\'GB\\\\\\', \\\\\\'name\\\\\\': \\\\\\'United Kingdom\\\\\\'}, {\\\\\\'iso_3166_1\\\\\\': \\\\\\'US\\\\\\', \\\\\\'name\\\\\\': \\\\\\'United States of America\\\\\\'}]\", \"overview\": \"Harry starts his fourth year at Hogwarts, competes in the treacherous Triwizard Tournament and faces the evil Lord Voldemort. Ron and Hermione help Harry manage the pressure \\\\\\\\u2013 but Voldemort lurks, awaiting his chance to destroy Harry and all that he stands for.\", \"revenue\": \"895921036\", \"production_companies\": \"[{\\\\\\'name\\\\\\': \\\\\\'Patalex IV Productions Limited\\\\\\', \\\\\\'id\\\\\\': 462}, {\\\\\\'name\\\\\\': \\\\\\'Warner Bros.\\\\\\', \\\\\\'id\\\\\\': 6194}, {\\\\\\'name\\\\\\': \\\\\\'Heyday Films\\\\\\', \\\\\\'id\\\\\\': 7364}]\", \"title\": \"Harry Potter and the Goblet of Fire\", \"genres\": \"[{\\\\\\'id\\\\\\': 12, \\\\\\'name\\\\\\': \\\\\\'Adventure\\\\\\'}, {\\\\\\'id\\\\\\': 14, \\\\\\'name\\\\\\': \\\\\\'Fantasy\\\\\\'}, {\\\\\\'id\\\\\\': 10751, \\\\\\'name\\\\\\': \\\\\\'Family\\\\\\'}]\", \"vote_average\": 7.5}\\'), Document(metadata={\\'id\\': \\'1eee9dbf916735c3e55b4694a5ea38ab\\', \\'name\\': \\'projects/506365831141/locations/global/collections/default_collection/dataStores/data-store_1724701968933/branches/0/documents/1eee9dbf916735c3e55b4694a5ea38ab\\'}, page_content=\\'{\"runtime\": \"153\", \"tagline\": \"Dark Secrets Revealed\", \"budget\": \"250000000\", \"poster_path\": \"https://image.tmdb.org/t/p/original/z7uo9zmQdQwU5ZJHFpv2Upl30i1.jpg\", \"id\": \"767\", \"original_language\": \"en\", \"status\": \"Released\", \"popularity\": 19.083723, \"homepage\": \"http://harrypotter.warnerbros.com/harrypotterandthehalf-bloodprince/dvd/index.html\", \"belongs_to_collection\": \"{\\\\\\'id\\\\\\': 1241, \\\\\\'name\\\\\\': \\\\\\'Harry Potter Collection\\\\\\', \\\\\\'poster_path\\\\\\': \\\\\\'/8Xmkc1HvCOpMlbFvVabrtr6HAsp.jpg\\\\\\', \\\\\\'backdrop_path\\\\\\': \\\\\\'/wfnMt6LGqYHcNyOfsuusw5lX3bL.jpg\\\\\\'}\", \"original_title\": \"Harry Potter and the Half-Blood Prince\", \"vote_count\": \"5435\", \"imdb_id\": \"tt0417741\", \"release_date\": \"2009-07-07\", \"spoken_languages\": \"[{\\\\\\'iso_639_1\\\\\\': \\\\\\'en\\\\\\', \\\\\\'name\\\\\\': \\\\\\'English\\\\\\'}]\", \"production_countries\": \"[{\\\\\\'iso_3166_1\\\\\\': \\\\\\'GB\\\\\\', \\\\\\'name\\\\\\': \\\\\\'United Kingdom\\\\\\'}, {\\\\\\'iso_3166_1\\\\\\': \\\\\\'US\\\\\\', \\\\\\'name\\\\\\': \\\\\\'United States of America\\\\\\'}]\", \"title\": \"Harry Potter and the Half-Blood Prince\", \"revenue\": \"933959197\", \"overview\": \"As Harry begins his sixth year at Hogwarts, he discovers an old book marked as \\\\\\'Property of the Half-Blood Prince\\\\\\', and begins to learn more about Lord Voldemort\\\\\\'s dark past.\", \"production_companies\": \"[{\\\\\\'name\\\\\\': \\\\\\'Warner Bros.\\\\\\', \\\\\\'id\\\\\\': 6194}, {\\\\\\'name\\\\\\': \\\\\\'Heyday Films\\\\\\', \\\\\\'id\\\\\\': 7364}]\", \"genres\": \"[{\\\\\\'id\\\\\\': 12, \\\\\\'name\\\\\\': \\\\\\'Adventure\\\\\\'}, {\\\\\\'id\\\\\\': 14, \\\\\\'name\\\\\\': \\\\\\'Fantasy\\\\\\'}, {\\\\\\'id\\\\\\': 10751, \\\\\\'name\\\\\\': \\\\\\'Family\\\\\\'}]\", \"vote_average\": 7.4}\\'), Document(metadata={\\'id\\': \\'26d84fd40641f29af64ed9672e58a617\\', \\'name\\': \\'projects/506365831141/locations/global/collections/default_collection/dataStores/data-store_1724701968933/branches/0/documents/26d84fd40641f29af64ed9672e58a617\\'}, page_content=\\'{\"id\": \"673\", \"poster_path\": \"https://image.tmdb.org/t/p/original/aWxwnYoe8p2d2fcxOqtvAtJ72Rw.jpg\", \"runtime\": \"141\", \"tagline\": \"Something wicked this way comes.\", \"budget\": \"130000000\", \"original_language\": \"en\", \"status\": \"Released\", \"popularity\": 28.460276, \"belongs_to_collection\": \"{\\\\\\'id\\\\\\': 1241, \\\\\\'name\\\\\\': \\\\\\'Harry Potter Collection\\\\\\', \\\\\\'poster_path\\\\\\': \\\\\\'/8Xmkc1HvCOpMlbFvVabrtr6HAsp.jpg\\\\\\', \\\\\\'backdrop_path\\\\\\': \\\\\\'/wfnMt6LGqYHcNyOfsuusw5lX3bL.jpg\\\\\\'}\", \"original_title\": \"Harry Potter and the Prisoner of Azkaban\", \"release_date\": \"2004-05-31\", \"imdb_id\": \"tt0304141\", \"vote_count\": \"6037\", \"spoken_languages\": \"[{\\\\\\'iso_639_1\\\\\\': \\\\\\'en\\\\\\', \\\\\\'name\\\\\\': \\\\\\'English\\\\\\'}]\", \"production_companies\": \"[{\\\\\\'name\\\\\\': \\\\\\'1492 Pictures\\\\\\', \\\\\\'id\\\\\\': 436}, {\\\\\\'name\\\\\\': \\\\\\'Heyday films\\\\\\', \\\\\\'id\\\\\\': 437}, {\\\\\\'name\\\\\\': \\\\\\'Warner Bros.\\\\\\', \\\\\\'id\\\\\\': 6194}]\", \"title\": \"Harry Potter and the Prisoner of Azkaban\", \"revenue\": \"789804554\", \"overview\": \"Harry, Ron and Hermione return to Hogwarts for another magic-filled year. Harry comes face to face with danger yet again, this time in the form of escaped convict, Sirius Black \\\\\\\\u2013 and turns to sympathetic Professor Lupin for help.\", \"production_countries\": \"[{\\\\\\'iso_3166_1\\\\\\': \\\\\\'GB\\\\\\', \\\\\\'name\\\\\\': \\\\\\'United Kingdom\\\\\\'}, {\\\\\\'iso_3166_1\\\\\\': \\\\\\'US\\\\\\', \\\\\\'name\\\\\\': \\\\\\'United States of America\\\\\\'}]\", \"genres\": \"[{\\\\\\'id\\\\\\': 12, \\\\\\'name\\\\\\': \\\\\\'Adventure\\\\\\'}, {\\\\\\'id\\\\\\': 14, \\\\\\'name\\\\\\': \\\\\\'Fantasy\\\\\\'}, {\\\\\\'id\\\\\\': 10751, \\\\\\'name\\\\\\': \\\\\\'Family\\\\\\'}]\", \"vote_average\": 7.7}\\'), Document(metadata={\\'id\\': \\'ef8a7118be0d16644c1388a1b9faf60b\\', \\'name\\': \\'projects/506365831141/locations/global/collections/default_collection/dataStores/data-store_1724701968933/branches/0/documents/ef8a7118be0d16644c1388a1b9faf60b\\'}, page_content=\\'{\"id\": \"12445\", \"poster_path\": \"https://image.tmdb.org/t/p/original/c54HpQmuwXjHq2C9wmoACjxoom3.jpg\", \"budget\": \"125000000\", \"tagline\": \"It all ends here.\", \"runtime\": \"130\", \"original_language\": \"en\", \"status\": \"Released\", \"popularity\": 24.990737, \"homepage\": \"http://www.harrypotter.com\", \"belongs_to_collection\": \"{\\\\\\'id\\\\\\': 1241, \\\\\\'name\\\\\\': \\\\\\'Harry Potter Collection\\\\\\', \\\\\\'poster_path\\\\\\': \\\\\\'/8Xmkc1HvCOpMlbFvVabrtr6HAsp.jpg\\\\\\', \\\\\\'backdrop_path\\\\\\': \\\\\\'/wfnMt6LGqYHcNyOfsuusw5lX3bL.jpg\\\\\\'}\", \"original_title\": \"Harry Potter and the Deathly Hallows: Part 2\", \"release_date\": \"2011-07-07\", \"spoken_languages\": \"[{\\\\\\'iso_639_1\\\\\\': \\\\\\'en\\\\\\', \\\\\\'name\\\\\\': \\\\\\'English\\\\\\'}]\", \"imdb_id\": \"tt1201607\", \"vote_count\": \"6141\", \"production_countries\": \"[{\\\\\\'iso_3166_1\\\\\\': \\\\\\'GB\\\\\\', \\\\\\'name\\\\\\': \\\\\\'United Kingdom\\\\\\'}, {\\\\\\'iso_3166_1\\\\\\': \\\\\\'US\\\\\\', \\\\\\'name\\\\\\': \\\\\\'United States of America\\\\\\'}]\", \"overview\": \"Harry, Ron and Hermione continue their quest to vanquish the evil Voldemort once and for all. Just as things begin to look hopeless for the young wizards, Harry discovers a trio of magical objects that endow him with powers to rival Voldemort\\\\\\'s formidable skills.\", \"revenue\": \"1342000000\", \"production_companies\": \"[{\\\\\\'name\\\\\\': \\\\\\'Warner Bros.\\\\\\', \\\\\\'id\\\\\\': 6194}, {\\\\\\'name\\\\\\': \\\\\\'Heyday Films\\\\\\', \\\\\\'id\\\\\\': 7364}]\", \"title\": \"Harry Potter and the Deathly Hallows: Part 2\", \"genres\": \"[{\\\\\\'id\\\\\\': 10751, \\\\\\'name\\\\\\': \\\\\\'Family\\\\\\'}, {\\\\\\'id\\\\\\': 14, \\\\\\'name\\\\\\': \\\\\\'Fantasy\\\\\\'}, {\\\\\\'id\\\\\\': 12, \\\\\\'name\\\\\\': \\\\\\'Adventure\\\\\\'}]\", \"vote_average\": 7.9}\\'), Document(metadata={\\'id\\': \\'f8b1d06fff000a31dd2b7edd134b71bf\\', \\'name\\': \\'projects/506365831141/locations/global/collections/default_collection/dataStores/data-store_1724701968933/branches/0/documents/f8b1d06fff000a31dd2b7edd134b71bf\\'}, page_content=\\'{\"id\": \"12444\", \"poster_path\": \"https://image.tmdb.org/t/p/original/iGoXIpQb7Pot00EEdwpwPajheZ5.jpg\", \"runtime\": \"146\", \"tagline\": \"One Way\\\\\\\\u2026 One Fate\\\\\\\\u2026 One Hero.\", \"budget\": \"250000000\", \"original_language\": \"en\", \"status\": \"Released\", \"popularity\": 23.300362, \"homepage\": \"http://www.harrypotter.com\", \"belongs_to_collection\": \"{\\\\\\'id\\\\\\': 1241, \\\\\\'name\\\\\\': \\\\\\'Harry Potter Collection\\\\\\', \\\\\\'poster_path\\\\\\': \\\\\\'/8Xmkc1HvCOpMlbFvVabrtr6HAsp.jpg\\\\\\', \\\\\\'backdrop_path\\\\\\': \\\\\\'/wfnMt6LGqYHcNyOfsuusw5lX3bL.jpg\\\\\\'}\", \"original_title\": \"Harry Potter and the Deathly Hallows: Part 1\", \"vote_count\": \"5708\", \"spoken_languages\": \"[{\\\\\\'iso_639_1\\\\\\': \\\\\\'en\\\\\\', \\\\\\'name\\\\\\': \\\\\\'English\\\\\\'}]\", \"release_date\": \"2010-10-17\", \"imdb_id\": \"tt0926084\", \"production_countries\": \"[{\\\\\\'iso_3166_1\\\\\\': \\\\\\'GB\\\\\\', \\\\\\'name\\\\\\': \\\\\\'United Kingdom\\\\\\'}, {\\\\\\'iso_3166_1\\\\\\': \\\\\\'US\\\\\\', \\\\\\'name\\\\\\': \\\\\\'United States of America\\\\\\'}]\", \"title\": \"Harry Potter and the Deathly Hallows: Part 1\", \"revenue\": \"954305868\", \"production_companies\": \"[{\\\\\\'name\\\\\\': \\\\\\'Warner Bros.\\\\\\', \\\\\\'id\\\\\\': 6194}, {\\\\\\'name\\\\\\': \\\\\\'Heyday Films\\\\\\', \\\\\\'id\\\\\\': 7364}]\", \"overview\": \"Harry, Ron and Hermione walk away from their last year at Hogwarts to find and destroy the remaining Horcruxes, putting an end to Voldemort\\\\\\'s bid for immortality. But with Harry\\\\\\'s beloved Dumbledore dead and Voldemort\\\\\\'s unscrupulous Death Eaters on the loose, the world is more dangerous than ever.\", \"genres\": \"[{\\\\\\'id\\\\\\': 12, \\\\\\'name\\\\\\': \\\\\\'Adventure\\\\\\'}, {\\\\\\'id\\\\\\': 14, \\\\\\'name\\\\\\': \\\\\\'Fantasy\\\\\\'}, {\\\\\\'id\\\\\\': 10751, \\\\\\'name\\\\\\': \\\\\\'Family\\\\\\'}]\", \"vote_average\": 7.5}\\'), Document(metadata={\\'id\\': \\'6c15b2a2b0b76fd3d0b4c47e5bf2f99f\\', \\'name\\': \\'projects/506365831141/locations/global/collections/default_collection/dataStores/data-store_1724701968933/branches/0/documents/6c15b2a2b0b76fd3d0b4c47e5bf2f99f\\'}, page_content=\\'{\"id\": \"59017\", \"poster_path\": \"https://image.tmdb.org/t/p/original/l14diLLp3Z5jrCev9S0SVVtwW9c.jpg\", \"runtime\": \"213\", \"budget\": \"0\", \"original_language\": \"en\", \"status\": \"Released\", \"popularity\": 0.471348, \"homepage\": \"http://www.teamstarkid.com/avps.html\", \"original_title\": \"A Very Potter Sequel\", \"vote_count\": \"12\", \"imdb_id\": \"tt2040264\", \"release_date\": \"2010-07-22\", \"spoken_languages\": \"[{\\\\\\'iso_639_1\\\\\\': \\\\\\'en\\\\\\', \\\\\\'name\\\\\\': \\\\\\'English\\\\\\'}]\", \"production_countries\": \"[{\\\\\\'iso_3166_1\\\\\\': \\\\\\'US\\\\\\', \\\\\\'name\\\\\\': \\\\\\'United States of America\\\\\\'}]\", \"overview\": \"Harry and his pals are back for more adventure than ever when they face off against dark wizards, demented monsters, and the most horrible woman in the world, Dolores Umbridge! So strap on your diapers because it\\\\\\'s time to go back to Hogwarts!\", \"revenue\": \"0\", \"title\": \"A Very Potter Sequel\", \"production_companies\": \"[{\\\\\\'name\\\\\\': \\\\\\'Starkid Productions\\\\\\', \\\\\\'id\\\\\\': 16151}]\", \"vote_average\": 7.2, \"genres\": \"[{\\\\\\'id\\\\\\': 10402, \\\\\\'name\\\\\\': \\\\\\'Music\\\\\\'}, {\\\\\\'id\\\\\\': 35, \\\\\\'name\\\\\\': \\\\\\'Comedy\\\\\\'}]\"}\\'), Document(metadata={\\'id\\': \\'e8d083e43962ec6cd3534c8d3757ebdc\\', \\'name\\': \\'projects/506365831141/locations/global/collections/default_collection/dataStores/data-store_1724701968933/branches/0/documents/e8d083e43962ec6cd3534c8d3757ebdc\\'}, page_content=\\'{\"budget\": \"0\", \"tagline\": \"The awesomeness begins\", \"id\": \"54507\", \"runtime\": \"166\", \"poster_path\": \"https://image.tmdb.org/t/p/original/8GcoqIPxjFqfW2VhG9OcQyftzXC.jpg\", \"original_language\": \"en\", \"status\": \"Released\", \"homepage\": \"http://www.teamstarkid.com/avpm.html\", \"popularity\": 1.054258, \"original_title\": \"A Very Potter Musical\", \"release_date\": \"2009-04-09\", \"spoken_languages\": \"[{\\\\\\'iso_639_1\\\\\\': \\\\\\'en\\\\\\', \\\\\\'name\\\\\\': \\\\\\'English\\\\\\'}]\", \"imdb_id\": \"tt2033193\", \"vote_count\": \"20\", \"production_companies\": \"[{\\\\\\'name\\\\\\': \\\\\\'Starkid Productions\\\\\\', \\\\\\'id\\\\\\': 16151}]\", \"title\": \"A Very Potter Musical\", \"revenue\": \"0\", \"overview\": \"In April 2009, a group of University of Michigan students (Team StarKid) performed what was renamed \\\\\\\\\"A Very Potter Musical\\\\\\\\\", a two act musical parody that featured major elements from all seven Harry Potter books and an original score.\", \"production_countries\": \"[{\\\\\\'iso_3166_1\\\\\\': \\\\\\'US\\\\\\', \\\\\\'name\\\\\\': \\\\\\'United States of America\\\\\\'}]\", \"vote_average\": 7.7, \"genres\": \"[{\\\\\\'id\\\\\\': 10402, \\\\\\'name\\\\\\': \\\\\\'Music\\\\\\'}, {\\\\\\'id\\\\\\': 35, \\\\\\'name\\\\\\': \\\\\\'Comedy\\\\\\'}]\"}\\')]'"
      ]
     },
     "execution_count": 24,
     "metadata": {},
     "output_type": "execute_result"
    }
   ],
   "source": [
    "search_kaggle_movies(\"Harry Potter\")"
   ]
  },
  {
   "cell_type": "code",
   "execution_count": 10,
   "id": "a63fa801-3194-46ea-bc43-ec50f734997a",
   "metadata": {
    "tags": []
   },
   "outputs": [],
   "source": [
    "prompt = {\n",
    "    \"history\": lambda x: x[\"history\"],\n",
    "    \"input\": lambda x: x[\"input\"],\n",
    "    \"agent_scratchpad\": (lambda x: format_to_tool_messages(x[\"intermediate_steps\"])),\n",
    "} | prompts.ChatPromptTemplate.from_messages(\n",
    "    [\n",
    "        prompts.MessagesPlaceholder(variable_name=\"history\"),\n",
    "        (\"user\", \"{input}\"),\n",
    "        prompts.MessagesPlaceholder(variable_name=\"agent_scratchpad\"),\n",
    "    ]\n",
    ")\n",
    "\n",
    "# Initialize session history\n",
    "store = {}\n",
    "\n",
    "\n",
    "def get_session_history(session_id: str):\n",
    "    if session_id not in store:\n",
    "        store[session_id] = ChatMessageHistory()\n",
    "    return store[session_id]"
   ]
  },
  {
   "cell_type": "markdown",
   "id": "b11f3040-e235-46be-8883-497421c88c6c",
   "metadata": {},
   "source": [
    "Reasoning Engine with LangChain Agent"
   ]
  },
  {
   "cell_type": "code",
   "execution_count": 12,
   "id": "6e3a802a-bf9b-416c-9669-f7e070cf3020",
   "metadata": {
    "tags": []
   },
   "outputs": [],
   "source": [
    "agent = reasoning_engines.LangchainAgent(\n",
    "    prompt=prompt,\n",
    "    model=model,\n",
    "    chat_history=get_session_history,\n",
    "    model_kwargs={\"temperature\": 0},\n",
    "    tools=[search_kaggle_movies],\n",
    "    agent_executor_kwargs={\"return_intermediate_steps\": True},\n",
    ")"
   ]
  },
  {
   "cell_type": "markdown",
   "id": "d771098c-b484-43e8-8b3d-04b456aa28a9",
   "metadata": {},
   "source": [
    "Test Locally"
   ]
  },
  {
   "cell_type": "code",
   "execution_count": 13,
   "id": "8c02cac8-9880-49d9-ab7b-c68d57bc7c71",
   "metadata": {
    "tags": []
   },
   "outputs": [
    {
     "data": {
      "text/markdown": [
       "Here are some sci-fi movies from the 1990s:\n",
       "\n",
       "* **12:01** (1993): A man is caught in a time loop, repeating the same day over and over again. \n",
       "* **Alien: Resurrection** (1997): Two hundred years after her death, Ellen Ripley is cloned and must face off against a new breed of xenomorphs. \n"
      ],
      "text/plain": [
       "<IPython.core.display.Markdown object>"
      ]
     },
     "metadata": {},
     "output_type": "display_data"
    }
   ],
   "source": [
    "response = agent.query(\n",
    "    input=\"List some sci-fi movies from the 1990s\",\n",
    "    config={\"configurable\": {\"session_id\": \"demo\"}},\n",
    ")\n",
    "\n",
    "display(Markdown(response[\"output\"]))"
   ]
  },
  {
   "cell_type": "markdown",
   "id": "545310fe-5ae3-43c0-b85a-dedf78f695c2",
   "metadata": {},
   "source": [
    "Deploy Agent to Vertex AI"
   ]
  },
  {
   "cell_type": "code",
   "execution_count": 14,
   "id": "79397b17-8253-4faa-92a2-12b9927b469e",
   "metadata": {
    "tags": []
   },
   "outputs": [
    {
     "name": "stdout",
     "output_type": "stream",
     "text": [
      "Using bucket avoxi_workshop_bucket\n",
      "Writing to gs://avoxi_workshop_bucket/reasoning_engine/reasoning_engine.pkl\n",
      "Writing to gs://avoxi_workshop_bucket/reasoning_engine/requirements.txt\n",
      "Creating in-memory tarfile of extra_packages\n",
      "Writing to gs://avoxi_workshop_bucket/reasoning_engine/dependencies.tar.gz\n",
      "Creating ReasoningEngine\n",
      "Create ReasoningEngine backing LRO: projects/506365831141/locations/us-central1/reasoningEngines/2691991492888625152/operations/8446173618466979840\n",
      "ReasoningEngine created. Resource name: projects/506365831141/locations/us-central1/reasoningEngines/2691991492888625152\n",
      "To use this ReasoningEngine in another session:\n",
      "reasoning_engine = vertexai.preview.reasoning_engines.ReasoningEngine('projects/506365831141/locations/us-central1/reasoningEngines/2691991492888625152')\n"
     ]
    }
   ],
   "source": [
    "remote_agent = reasoning_engines.ReasoningEngine.create(\n",
    "    agent,\n",
    "    requirements=[\n",
    "        \"google-cloud-aiplatform[langchain,reasoningengine]\",\n",
    "        \"cloudpickle==3.0.0\",\n",
    "        \"pydantic==2.7.4\",\n",
    "        \"langchain-google-community\",\n",
    "        \"google-cloud-discoveryengine\",\n",
    "    ],\n",
    ")"
   ]
  },
  {
   "cell_type": "markdown",
   "id": "ba74288e-2216-44c7-83cc-7e99eaa23f5c",
   "metadata": {},
   "source": [
    "#### Grant Discovery Engine Editor access to Reasoning Engine service account\n",
    "\n",
    "* To ensure your remote agent can access relevant data, grant the Discovery Engine Editor role to the Reasoning Engine service account before sending queries. \n",
    "* The remote agent will then be able to retrieve documents from the data store that are created in Vertex AI Search."
   ]
  },
  {
   "cell_type": "code",
   "execution_count": 15,
   "id": "de99e671-65bd-49de-a7dd-f44b2f5d134b",
   "metadata": {
    "tags": []
   },
   "outputs": [
    {
     "data": {
      "text/plain": [
       "'506365831141'"
      ]
     },
     "execution_count": 15,
     "metadata": {},
     "output_type": "execute_result"
    }
   ],
   "source": [
    "service = discovery.build(\"cloudresourcemanager\", \"v1\")\n",
    "request = service.projects().get(projectId=PROJECT_ID)\n",
    "response = request.execute()\n",
    "project_number = response[\"projectNumber\"]\n",
    "project_number"
   ]
  },
  {
   "cell_type": "code",
   "execution_count": 17,
   "id": "39a18239-8f50-4742-adc3-031683863ff6",
   "metadata": {
    "tags": []
   },
   "outputs": [
    {
     "name": "stdout",
     "output_type": "stream",
     "text": [
      "serviceAccount:service-506365831141@gcp-sa-aiplatform-re.iam.gserviceaccount.com\n"
     ]
    }
   ],
   "source": [
    "!echo serviceAccount:service-{project_number}@gcp-sa-aiplatform-re.iam.gserviceaccount.com"
   ]
  },
  {
   "cell_type": "markdown",
   "id": "dc7c45b1-3a3c-4573-9804-acd6727c279e",
   "metadata": {},
   "source": [
    "Grant Editor Role"
   ]
  },
  {
   "cell_type": "code",
   "execution_count": null,
   "id": "ca3f57da-5f58-4519-b376-be59531b569e",
   "metadata": {
    "tags": []
   },
   "outputs": [],
   "source": [
    "!gcloud projects add-iam-policy-binding {PROJECT_ID} \\\n",
    "    --member=serviceAccount:service-{project_number}@gcp-sa-aiplatform-re.iam.gserviceaccount.com \\\n",
    "    --role=roles/discoveryengine.editor"
   ]
  },
  {
   "cell_type": "markdown",
   "id": "e6ab64da-e147-4080-a515-a38aa5c4e663",
   "metadata": {},
   "source": [
    "#### Test remotely deployed agent"
   ]
  },
  {
   "cell_type": "code",
   "execution_count": 19,
   "id": "153f9e47-cbb6-4a25-9dcf-854c6b1ca691",
   "metadata": {
    "tags": []
   },
   "outputs": [
    {
     "data": {
      "text/markdown": [
       "Here are some sci-fi movies from the 1990s:\n",
       "\n",
       "* **Moon 44** (1990): In a future where Earth's resources are depleted, prisoners are sent to defend a mining station on one of the last remaining mineral moons.\n",
       "* **Metamorphosis: The Alien Factor** (1990): A virus from outer space transforms a bio-researcher into a bloodthirsty monster.\n",
       "* **Frankenstein Unbound** (1990): A scientist from the year 2031 is transported back to 1817, where he encounters Dr. Victor Frankenstein and his creation.\n",
       "* **12:01 PM** (1990): A man finds himself repeating the same hour of his life over and over again.\n",
       "* **Circuitry Man** (1990): In a future where most humans live underground to escape pollution, a bodyguard and an android smuggle narcotic brain chips in a post-apocalyptic Los Angeles.\n",
       "* **Class of 1999** (1990): In a dystopian future, a high school overrun by gangs brings in android teachers to restore order, but the robots have their own ideas about discipline. \n",
       "* **Spaced Invaders** (1990): A group of Martians misinterpret a radio broadcast of \"War of the Worlds\" as a real invasion and land in a small town on Halloween. \n",
       "\n"
      ],
      "text/plain": [
       "<IPython.core.display.Markdown object>"
      ]
     },
     "metadata": {},
     "output_type": "display_data"
    }
   ],
   "source": [
    "response = remote_agent.query(\n",
    "    input=\"List some sci-fi movies from the 1990s\",\n",
    "    config={\"configurable\": {\"session_id\": \"demo\"}},\n",
    ")\n",
    "\n",
    "display(Markdown(response[\"output\"]))"
   ]
  },
  {
   "cell_type": "code",
   "execution_count": 20,
   "id": "9344e27a-a36d-414c-80b4-7f9003df74a2",
   "metadata": {
    "tags": []
   },
   "outputs": [
    {
     "data": {
      "text/markdown": [
       "The main actors in The Matrix are:\n",
       "\n",
       "* Keanu Reeves as Neo\n",
       "* Laurence Fishburne as Morpheus\n",
       "* Carrie-Anne Moss as Trinity \n",
       "* Hugo Weaving as Agent Smith \n"
      ],
      "text/plain": [
       "<IPython.core.display.Markdown object>"
      ]
     },
     "metadata": {},
     "output_type": "display_data"
    }
   ],
   "source": [
    "response = remote_agent.query(\n",
    "    input=\"Who are the actors in The Matrix?\",\n",
    "    config={\"configurable\": {\"session_id\": \"demo\"}},\n",
    ")\n",
    "\n",
    "display(Markdown(response[\"output\"]))"
   ]
  },
  {
   "cell_type": "code",
   "execution_count": 21,
   "id": "bfcaf951-002d-455c-9d19-485e8c2008ef",
   "metadata": {
    "tags": []
   },
   "outputs": [
    {
     "data": {
      "text/markdown": [
       "Yes, all of those actors have been in many other movies! Here are some examples:\n",
       "\n",
       "* **Keanu Reeves:** Bill & Ted's Excellent Adventure, Speed, Point Break, John Wick,  Much Ado About Nothing \n",
       "* **Laurence Fishburne:**  Boyz n the Hood, What's Love Got to Do with It, Apocalypse Now, Contagion\n",
       "* **Carrie-Anne Moss:** Memento, Chocolat, Jessica Jones, Red Planet\n",
       "* **Hugo Weaving:** The Lord of the Rings (trilogy), V for Vendetta, The Hobbit (trilogy),  Priscilla, Queen of the Desert \n"
      ],
      "text/plain": [
       "<IPython.core.display.Markdown object>"
      ]
     },
     "metadata": {},
     "output_type": "display_data"
    }
   ],
   "source": [
    "response = remote_agent.query(\n",
    "    input=\"Are those actors in any other movies?\",\n",
    "    config={\"configurable\": {\"session_id\": \"demo\"}},\n",
    ")\n",
    "\n",
    "display(Markdown(response[\"output\"]))"
   ]
  },
  {
   "cell_type": "code",
   "execution_count": 22,
   "id": "ba3da741-cd8b-41cd-af4f-67a2b07052bf",
   "metadata": {
    "tags": []
   },
   "outputs": [
    {
     "data": {
      "text/plain": [
       "{'input': 'Are those actors in any other movies?',\n",
       " 'intermediate_steps': [],\n",
       " 'history': [{'kwargs': {'content': 'List some sci-fi movies from the 1990s',\n",
       "    'type': 'human'},\n",
       "   'type': 'constructor',\n",
       "   'id': ['langchain', 'schema', 'messages', 'HumanMessage'],\n",
       "   'lc': 1.0},\n",
       "  {'kwargs': {'content': 'Here are some sci-fi movies from the 1990s:\\n\\n* **12:01** (1993): A man is caught in a time loop, repeating the same day over and over again. \\n* **Alien: Resurrection** (1997): Two hundred years after her death, Ellen Ripley is cloned and must face off against a new breed of xenomorphs. \\n',\n",
       "    'tool_calls': [],\n",
       "    'type': 'ai',\n",
       "    'invalid_tool_calls': []},\n",
       "   'type': 'constructor',\n",
       "   'id': ['langchain', 'schema', 'messages', 'AIMessage'],\n",
       "   'lc': 1.0},\n",
       "  {'kwargs': {'content': 'List some sci-fi movies from the 1990s',\n",
       "    'type': 'human'},\n",
       "   'type': 'constructor',\n",
       "   'id': ['langchain', 'schema', 'messages', 'HumanMessage'],\n",
       "   'lc': 1.0},\n",
       "  {'kwargs': {'content': 'Here are some sci-fi movies from the 1990s:\\n\\n* **Moon 44** (1990): In a future where Earth\\'s resources are depleted, prisoners are sent to defend a mining station on one of the last remaining mineral moons.\\n* **Metamorphosis: The Alien Factor** (1990): A virus from outer space transforms a bio-researcher into a bloodthirsty monster.\\n* **Frankenstein Unbound** (1990): A scientist from the year 2031 is transported back to 1817, where he encounters Dr. Victor Frankenstein and his creation.\\n* **12:01 PM** (1990): A man finds himself repeating the same hour of his life over and over again.\\n* **Circuitry Man** (1990): In a future where most humans live underground to escape pollution, a bodyguard and an android smuggle narcotic brain chips in a post-apocalyptic Los Angeles.\\n* **Class of 1999** (1990): In a dystopian future, a high school overrun by gangs brings in android teachers to restore order, but the robots have their own ideas about discipline. \\n* **Spaced Invaders** (1990): A group of Martians misinterpret a radio broadcast of \"War of the Worlds\" as a real invasion and land in a small town on Halloween. \\n\\n',\n",
       "    'type': 'ai',\n",
       "    'tool_calls': [],\n",
       "    'invalid_tool_calls': []},\n",
       "   'type': 'constructor',\n",
       "   'id': ['langchain', 'schema', 'messages', 'AIMessage'],\n",
       "   'lc': 1.0},\n",
       "  {'kwargs': {'content': 'Who are the actors in The Matrix?', 'type': 'human'},\n",
       "   'type': 'constructor',\n",
       "   'id': ['langchain', 'schema', 'messages', 'HumanMessage'],\n",
       "   'lc': 1.0},\n",
       "  {'kwargs': {'content': 'The main actors in The Matrix are:\\n\\n* Keanu Reeves as Neo\\n* Laurence Fishburne as Morpheus\\n* Carrie-Anne Moss as Trinity \\n* Hugo Weaving as Agent Smith \\n',\n",
       "    'type': 'ai',\n",
       "    'tool_calls': [],\n",
       "    'invalid_tool_calls': []},\n",
       "   'type': 'constructor',\n",
       "   'id': ['langchain', 'schema', 'messages', 'AIMessage'],\n",
       "   'lc': 1.0}],\n",
       " 'output': \"Yes, all of those actors have been in many other movies! Here are some examples:\\n\\n* **Keanu Reeves:** Bill & Ted's Excellent Adventure, Speed, Point Break, John Wick,  Much Ado About Nothing \\n* **Laurence Fishburne:**  Boyz n the Hood, What's Love Got to Do with It, Apocalypse Now, Contagion\\n* **Carrie-Anne Moss:** Memento, Chocolat, Jessica Jones, Red Planet\\n* **Hugo Weaving:** The Lord of the Rings (trilogy), V for Vendetta, The Hobbit (trilogy),  Priscilla, Queen of the Desert \\n\"}"
      ]
     },
     "execution_count": 22,
     "metadata": {},
     "output_type": "execute_result"
    }
   ],
   "source": [
    "response"
   ]
  }
 ],
 "metadata": {
  "environment": {
   "kernel": "conda-base-py",
   "name": "workbench-notebooks.m123",
   "type": "gcloud",
   "uri": "us-docker.pkg.dev/deeplearning-platform-release/gcr.io/workbench-notebooks:m123"
  },
  "kernelspec": {
   "display_name": "Python 3 (ipykernel) (Local)",
   "language": "python",
   "name": "conda-base-py"
  },
  "language_info": {
   "codemirror_mode": {
    "name": "ipython",
    "version": 3
   },
   "file_extension": ".py",
   "mimetype": "text/x-python",
   "name": "python",
   "nbconvert_exporter": "python",
   "pygments_lexer": "ipython3",
   "version": "3.10.14"
  }
 },
 "nbformat": 4,
 "nbformat_minor": 5
}
