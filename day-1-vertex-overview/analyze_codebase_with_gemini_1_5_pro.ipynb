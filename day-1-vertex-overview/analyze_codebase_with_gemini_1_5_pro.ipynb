{
 "cells": [
  {
   "cell_type": "code",
   "execution_count": null,
   "metadata": {
    "id": "bCIMTPB1WoTq"
   },
   "outputs": [],
   "source": [
    "# Copyright 2024 Google LLC\n",
    "#\n",
    "# Licensed under the Apache License, Version 2.0 (the \"License\");\n",
    "# you may not use this file except in compliance with the License.\n",
    "# You may obtain a copy of the License at\n",
    "#\n",
    "#     https://www.apache.org/licenses/LICENSE-2.0\n",
    "#\n",
    "# Unless required by applicable law or agreed to in writing, software\n",
    "# distributed under the License is distributed on an \"AS IS\" BASIS,\n",
    "# WITHOUT WARRANTIES OR CONDITIONS OF ANY KIND, either express or implied.\n",
    "# See the License for the specific language governing permissions and\n",
    "# limitations under the License."
   ]
  },
  {
   "cell_type": "markdown",
   "metadata": {
    "id": "pPmcMNgZpo9V"
   },
   "source": [
    "# Analyze a codebase with the Vertex AI Gemini 1.5 Pro\n",
    "\n",
    "\n",
    "<table align=\"left\">\n",
    "  <td style=\"text-align: center\">\n",
    "    <a href=\"https://colab.research.google.com/github/GoogleCloudPlatform/generative-ai/blob/main/gemini/use-cases/code/analyze_codebase_with_gemini_1_5_pro.ipynb\">\n",
    "      <img src=\"https://cloud.google.com/ml-engine/images/colab-logo-32px.png\" alt=\"Google Colaboratory logo\"><br> Open in Colab\n",
    "    </a>\n",
    "  </td>\n",
    "  <td style=\"text-align: center\">\n",
    "    <a href=\"https://console.cloud.google.com/vertex-ai/colab/import/https:%2F%2Fraw.githubusercontent.com%2FGoogleCloudPlatform%2Fgenerative-ai%2Fmain%2Fgemini%2Fuse-cases%2Fcode%2Fanalyze_codebase_with_gemini_1_5_pro.ipynb\">\n",
    "      <img width=\"32px\" src=\"https://lh3.googleusercontent.com/JmcxdQi-qOpctIvWKgPtrzZdJJK-J3sWE1RsfjZNwshCFgE_9fULcNpuXYTilIR2hjwN\" alt=\"Google Cloud Colab Enterprise logo\"><br> Open in Colab Enterprise\n",
    "    </a>\n",
    "  </td>    \n",
    "  <td style=\"text-align: center\">\n",
    "    <a href=\"https://console.cloud.google.com/vertex-ai/workbench/deploy-notebook?download_url=https://raw.githubusercontent.com/GoogleCloudPlatform/generative-ai/main/gemini/use-cases/code/analyze_codebase_with_gemini_1_5_pro.ipynb\">\n",
    "      <img src=\"https://lh3.googleusercontent.com/UiNooY4LUgW_oTvpsNhPpQzsstV5W8F7rYgxgGBD85cWJoLmrOzhVs_ksK_vgx40SHs7jCqkTkCk=e14-rj-sc0xffffff-h130-w32\" alt=\"Vertex AI logo\"><br> Open in Workbench\n",
    "    </a>\n",
    "  </td>\n",
    "  <td style=\"text-align: center\">\n",
    "    <a href=\"https://github.com/GoogleCloudPlatform/generative-ai/blob/main/gemini/use-cases/code/analyze_codebase_with_gemini_1_5_pro.ipynb\">\n",
    "      <img src=\"https://cloud.google.com/ml-engine/images/github-logo-32px.png\" alt=\"GitHub logo\"><br> View on GitHub\n",
    "    </a>\n",
    "  </td>\n",
    "</table>\n"
   ]
  },
  {
   "cell_type": "markdown",
   "metadata": {
    "id": "1EExYZvij2ve"
   },
   "source": [
    "| | |\n",
    "|-|-|\n",
    "|Author(s) | [Eric Dong](https://github.com/gericdong), [Aakash Gouda](https://github.com/aksstar)|"
   ]
  },
  {
   "cell_type": "markdown",
   "metadata": {
    "id": "7yVV6txOmNMn"
   },
   "source": [
    "## Overview\n",
    "\n",
    "Gemini 1.5 Pro introduces a breakthrough long context window of up to 1 million tokens that can help seamlessly analyze, classify and summarize large amounts of content within a given prompt. With its long-context reasoning, Gemini 1.5 Pro can analyze an entire codebase for deeper insights.\n",
    "\n",
    "In this tutorial, you learn how to analyze an entire codebase with Gemini 1.5 Pro and prompt the model to:\n",
    "\n",
    "- **Analyze**: Summarize codebases effortlessly.\n",
    "- **Guide**: Generate clear developer getting-started documentation.\n",
    "- **Debug**: Uncover critical bugs and provide fixes.\n",
    "- **Enhance**: Implement new features and improve reliability and security.\n"
   ]
  },
  {
   "cell_type": "markdown",
   "metadata": {
    "id": "hdMGtr18rFdL"
   },
   "source": [
    "## Getting Started"
   ]
  },
  {
   "cell_type": "markdown",
   "metadata": {
    "id": "No17Cw5hgx12"
   },
   "source": [
    "### Install Vertex AI SDK for Python\n"
   ]
  },
  {
   "cell_type": "code",
   "execution_count": 5,
   "metadata": {
    "id": "tFy3H3aPgx12"
   },
   "outputs": [
    {
     "name": "stdout",
     "output_type": "stream",
     "text": [
      "\u001b[33m  WARNING: The script isympy is installed in '/home/jupyter/.local/bin' which is not on PATH.\n",
      "  Consider adding this directory to PATH or, if you prefer to suppress this warning, use --no-warn-script-location.\u001b[0m\u001b[33m\n",
      "\u001b[0m\u001b[33m  WARNING: The script humanfriendly is installed in '/home/jupyter/.local/bin' which is not on PATH.\n",
      "  Consider adding this directory to PATH or, if you prefer to suppress this warning, use --no-warn-script-location.\u001b[0m\u001b[33m\n",
      "\u001b[0m\u001b[33m  WARNING: The script coloredlogs is installed in '/home/jupyter/.local/bin' which is not on PATH.\n",
      "  Consider adding this directory to PATH or, if you prefer to suppress this warning, use --no-warn-script-location.\u001b[0m\u001b[33m\n",
      "\u001b[0m\u001b[33m  WARNING: The script onnxruntime_test is installed in '/home/jupyter/.local/bin' which is not on PATH.\n",
      "  Consider adding this directory to PATH or, if you prefer to suppress this warning, use --no-warn-script-location.\u001b[0m\u001b[33m\n",
      "\u001b[0m\u001b[33m  WARNING: The script magika is installed in '/home/jupyter/.local/bin' which is not on PATH.\n",
      "  Consider adding this directory to PATH or, if you prefer to suppress this warning, use --no-warn-script-location.\u001b[0m\u001b[33m\n",
      "\u001b[0m"
     ]
    }
   ],
   "source": [
    "! pip3 install --upgrade --user --quiet google-cloud-aiplatform \\\n",
    "                                        gitpython \\\n",
    "                                        magika"
   ]
  },
  {
   "cell_type": "markdown",
   "metadata": {
    "id": "R5Xep4W9lq-Z"
   },
   "source": [
    "### Restart runtime (Colab only)\n",
    "\n",
    "To use the newly installed packages in this Jupyter runtime, you must restart the runtime. You can do this by running the cell below, which restarts the current kernel.\n",
    "\n",
    "The restart might take a minute or longer. After it's restarted, continue to the next step."
   ]
  },
  {
   "cell_type": "code",
   "execution_count": null,
   "metadata": {
    "id": "XRvKdaPDTznN"
   },
   "outputs": [],
   "source": [
    "import sys\n",
    "\n",
    "if \"google.colab\" in sys.modules:\n",
    "    import IPython\n",
    "\n",
    "    app = IPython.Application.instance()\n",
    "    app.kernel.do_shutdown(True)"
   ]
  },
  {
   "cell_type": "markdown",
   "metadata": {
    "id": "SbmM4z7FOBpM"
   },
   "source": [
    "<div class=\"alert alert-block alert-warning\">\n",
    "<b>⚠️ The kernel is going to restart. Please wait until it is finished before continuing to the next step. ⚠️</b>\n",
    "</div>\n"
   ]
  },
  {
   "cell_type": "markdown",
   "metadata": {
    "id": "dmWOrTJ3gx13"
   },
   "source": [
    "### Authenticate your notebook environment (Colab only)\n",
    "\n",
    "If you are running this notebook on Google Colab, run the following cell to authenticate your environment.\n"
   ]
  },
  {
   "cell_type": "code",
   "execution_count": null,
   "metadata": {
    "id": "NyKGtVQjgx13"
   },
   "outputs": [],
   "source": [
    "import sys\n",
    "\n",
    "if \"google.colab\" in sys.modules:\n",
    "    from google.colab import auth\n",
    "\n",
    "    auth.authenticate_user()"
   ]
  },
  {
   "cell_type": "markdown",
   "metadata": {
    "id": "DF4l8DTdWgPY"
   },
   "source": [
    "### Set Google Cloud project information and initialize Vertex AI SDK\n",
    "\n",
    "To get started using Vertex AI, you must have an existing Google Cloud project and [enable the Vertex AI API](https://console.cloud.google.com/flows/enableapi?apiid=aiplatform.googleapis.com).\n",
    "\n",
    "Learn more about [setting up a project and a development environment](https://cloud.google.com/vertex-ai/docs/start/cloud-environment)."
   ]
  },
  {
   "cell_type": "code",
   "execution_count": 1,
   "metadata": {
    "id": "Nqwi-5ufWp_B"
   },
   "outputs": [],
   "source": [
    "PROJECT_ID = \"gurkomal-playground\"  # @param {type:\"string\"}\n",
    "LOCATION = \"us-central1\"  # @param {type:\"string\"}\n",
    "\n",
    "import vertexai\n",
    "\n",
    "vertexai.init(project=PROJECT_ID, location=LOCATION)"
   ]
  },
  {
   "cell_type": "markdown",
   "metadata": {
    "id": "vbozY-XKee95"
   },
   "source": [
    "### Import libraries"
   ]
  },
  {
   "cell_type": "code",
   "execution_count": 3,
   "metadata": {
    "id": "NSCFmvOWBas9"
   },
   "outputs": [],
   "source": [
    "import IPython.display\n",
    "from IPython.core.interactiveshell import InteractiveShell\n",
    "\n",
    "InteractiveShell.ast_node_interactivity = \"all\"\n",
    "\n",
    "from vertexai.generative_models import (\n",
    "    FunctionDeclaration,\n",
    "    GenerationConfig,\n",
    "    GenerativeModel,\n",
    "    Tool,\n",
    ")"
   ]
  },
  {
   "cell_type": "markdown",
   "metadata": {
    "id": "WNoOTMp2fe33"
   },
   "source": [
    "## Cloning a codebase\n",
    "\n",
    "You will use repo [Online Boutique](https://github.com/GoogleCloudPlatform/microservices-demo) as an example in this notebook. Online Boutique is a cloud-first microservices demo application. The application is a web-based e-commerce app where users can browse items, add them to the cart, and purchase them. This application consists of 11 microservices across multiple languages."
   ]
  },
  {
   "cell_type": "code",
   "execution_count": 4,
   "metadata": {
    "id": "GlDOs49qgStM"
   },
   "outputs": [],
   "source": [
    "# The GitHub repository URL\n",
    "repo_url = \"https://github.com/GoogleCloudPlatform/microservices-demo\"  # @param {type:\"string\"}\n",
    "\n",
    "# The location to clone the repo\n",
    "repo_dir = \"./repo\""
   ]
  },
  {
   "cell_type": "markdown",
   "metadata": {
    "id": "PAm1ly9pfIEX"
   },
   "source": [
    "#### Define helper functions for processing GitHub repository"
   ]
  },
  {
   "cell_type": "code",
   "execution_count": 5,
   "metadata": {
    "id": "stNia6UaHau2"
   },
   "outputs": [],
   "source": [
    "import os\n",
    "import shutil\n",
    "from pathlib import Path\n",
    "import requests\n",
    "import git\n",
    "import magika\n",
    "\n",
    "m = magika.Magika()\n",
    "\n",
    "\n",
    "def clone_repo(repo_url, repo_dir):\n",
    "    \"\"\"Clone a GitHub repository.\"\"\"\n",
    "\n",
    "    if os.path.exists(repo_dir):\n",
    "        shutil.rmtree(repo_dir)\n",
    "    os.makedirs(repo_dir)\n",
    "    git.Repo.clone_from(repo_url, repo_dir)\n",
    "\n",
    "\n",
    "def extract_code(repo_dir):\n",
    "    \"\"\"Create an index, extract content of code/text files.\"\"\"\n",
    "\n",
    "    code_index = []\n",
    "    code_text = \"\"\n",
    "    for root, _, files in os.walk(repo_dir):\n",
    "        for file in files:\n",
    "            file_path = os.path.join(root, file)\n",
    "            relative_path = os.path.relpath(file_path, repo_dir)\n",
    "            code_index.append(relative_path)\n",
    "\n",
    "            file_type = m.identify_path(Path(file_path))\n",
    "            if file_type.output.group in (\"text\", \"code\"):\n",
    "                try:\n",
    "                    with open(file_path, \"r\") as f:\n",
    "                        code_text += f\"----- File: {relative_path} -----\\n\"\n",
    "                        code_text += f.read()\n",
    "                        code_text += \"\\n-------------------------\\n\"\n",
    "                except Exception:\n",
    "                    pass\n",
    "\n",
    "    return code_index, code_text\n",
    "\n",
    "\n",
    "def get_github_issue(owner: str, repo: str, issue_number: str) -> str:\n",
    "    headers = {\n",
    "        \"Accept\": \"application/vnd.github+json\",\n",
    "        \"X-GitHub-Api-Version\": \"2022-11-28\",\n",
    "    }  # Set headers for GitHub API\n",
    "\n",
    "    # Construct API URL\n",
    "    url = f\"https://api.github.com/repos/{owner}/{repo}/issues/{issue_number}\"\n",
    "\n",
    "    try:\n",
    "        response_git = requests.get(url, headers=headers)\n",
    "        response_git.raise_for_status()  # Check for HTTP errors\n",
    "    except requests.exceptions.RequestException as error:\n",
    "        print(f\"Error fetching issue: {error}\")  # Handle potential errors\n",
    "\n",
    "    issue_data = response_git.json()\n",
    "    if issue_data:\n",
    "        return issue_data[\"body\"]\n",
    "    return \"\""
   ]
  },
  {
   "cell_type": "markdown",
   "metadata": {
    "id": "m1UyVuQLuTKE"
   },
   "source": [
    "#### Create an index and extract content of a codebase\n",
    "\n",
    "Clone the repo and create an index and extract content of code/text files."
   ]
  },
  {
   "cell_type": "code",
   "execution_count": 6,
   "metadata": {
    "id": "rqaYzmNQuTKQ"
   },
   "outputs": [],
   "source": [
    "clone_repo(repo_url, repo_dir)\n",
    "\n",
    "code_index, code_text = extract_code(repo_dir)"
   ]
  },
  {
   "cell_type": "markdown",
   "metadata": {
    "id": "JiVQB5SKekS0"
   },
   "source": [
    "## Analyzing the codebase with Gemini 1.5 Pro\n",
    "\n",
    "With its long-context reasoning, Gemini 1.5 Pro can process the codebase and answer questions about the codebase."
   ]
  },
  {
   "cell_type": "markdown",
   "metadata": {
    "id": "BY1nfXrqRxVX"
   },
   "source": [
    "#### Load the Gemini 1.5 Pro model\n",
    "\n",
    "Learn more about the [Gemini API models on Vertex AI](https://cloud.google.com/vertex-ai/generative-ai/docs/learn/models#gemini-models).\n"
   ]
  },
  {
   "cell_type": "code",
   "execution_count": 7,
   "metadata": {
    "id": "vB9gY3WruzK9"
   },
   "outputs": [],
   "source": [
    "MODEL_ID = \"gemini-1.5-pro-001\"  # @param {type:\"string\"}\n",
    "\n",
    "model = GenerativeModel(\n",
    "    MODEL_ID,\n",
    "    system_instruction=[\n",
    "        \"You are a coding expert.\",\n",
    "        \"Your mission is to answer all code related questions with given context and instructions.\",\n",
    "    ],\n",
    ")"
   ]
  },
  {
   "cell_type": "markdown",
   "metadata": {
    "id": "yedKsUEEvNyb"
   },
   "source": [
    "#### Define a helper function to generate a prompt to a code related question"
   ]
  },
  {
   "cell_type": "code",
   "execution_count": 8,
   "metadata": {
    "id": "1DGzMhjCvCpj"
   },
   "outputs": [],
   "source": [
    "def get_code_prompt(question):\n",
    "    \"\"\"Generates a prompt to a code related question.\"\"\"\n",
    "\n",
    "    prompt = f\"\"\"\n",
    "    Questions: {question}\n",
    "\n",
    "    Context:\n",
    "    - The entire codebase is provided below.\n",
    "    - Here is an index of all of the files in the codebase:\n",
    "      \\n\\n{code_index}\\n\\n.\n",
    "    - Then each of the files is concatenated together. You will find all of the code you need:\n",
    "      \\n\\n{code_text}\\n\\n\n",
    "\n",
    "    Answer:\n",
    "  \"\"\"\n",
    "\n",
    "    return prompt"
   ]
  },
  {
   "cell_type": "markdown",
   "metadata": {
    "id": "g3OtaszvJt9L"
   },
   "source": [
    "### 1. Summarizing the codebase\n",
    "\n",
    "\n",
    "Generate a summary of the codebase."
   ]
  },
  {
   "cell_type": "code",
   "execution_count": 9,
   "metadata": {
    "id": "uMexx1Qtf1ML"
   },
   "outputs": [
    {
     "name": "stdout",
     "output_type": "stream",
     "text": [
      "\n",
      "Answer:\n",
      "```\n",
      "This codebase is the source code for the \"Online Boutique\" microservices demo application. It is a cloud-first, web-based e-commerce app that simulates the user journey of browsing products, adding them to a shopping cart, and completing an order. \n",
      "\n",
      "The application is built as a set of 11 microservices, each written in a different language (Go, C#, Node.js, Python, and Java) and communicating over gRPC. The services are packaged into Docker containers and deployed to a Kubernetes cluster. Kustomize and Helm are also used to enable easy customization and deployment of the application.\n",
      "\n",
      "Here are three things you can learn from this codebase:\n",
      "\n",
      "1. **Microservices architecture:** The app showcases how to build a complex application as a set of loosely coupled, independently deployable microservices. Each service has a well-defined responsibility and communicates with other services over a network. This allows for independent development and scaling of different parts of the application.\n",
      "2. **gRPC and Protocol Buffers:** The codebase demonstrates the use of gRPC, a high-performance RPC framework, for inter-service communication. Services define their APIs using Protocol Buffers, a language-agnostic mechanism for serializing structured data.\n",
      "3. **Cloud-native deployment:**  The app leverages Docker for containerization and Kubernetes for orchestration. It also demonstrates the use of tools like Skaffold and Kustomize to simplify the build, push, and deploy process. Additionally, the code includes integrations with Google Cloud Operations tools for monitoring, tracing, and profiling.\n",
      "\n",
      "Beyond the top 3, this codebase is a great resource to learn about:\n",
      "* **Different programming languages:** The services are written in various languages, allowing you to explore different approaches and paradigms.\n",
      "* **Cloud technologies:** The application can be deployed and customized to use various Google Cloud technologies like Spanner, Memorystore, and AlloyDB, as well as Istio service mesh.\n",
      "* **Frontend development:** The frontend service (written in Go) demonstrates how to build a web application that consumes data from a backend API. \n",
      "* **Testing practices:** The codebase includes unit tests and integration tests for various services.\n",
      "* **Deployment automation:** The CI/CD pipelines defined in the `.github/workflows` directory automate building, testing, and deploying the application.\n",
      "\n",
      "\n",
      "```\n",
      "\n",
      "Usage metadata:\n",
      "{'prompt_token_count': 658038, 'candidates_token_count': 488, 'total_token_count': 658526}\n",
      "\n",
      "Finish reason:\n",
      "1\n",
      "\n",
      "Safety settings:\n",
      "[category: HARM_CATEGORY_HATE_SPEECH\n",
      "probability: NEGLIGIBLE\n",
      "probability_score: 0.0952148438\n",
      "severity: HARM_SEVERITY_LOW\n",
      "severity_score: 0.249023438\n",
      ", category: HARM_CATEGORY_DANGEROUS_CONTENT\n",
      "probability: NEGLIGIBLE\n",
      "probability_score: 0.46875\n",
      "severity: HARM_SEVERITY_MEDIUM\n",
      "severity_score: 0.4453125\n",
      ", category: HARM_CATEGORY_HARASSMENT\n",
      "probability: NEGLIGIBLE\n",
      "probability_score: 0.202148438\n",
      "severity: HARM_SEVERITY_NEGLIGIBLE\n",
      "severity_score: 0.114257812\n",
      ", category: HARM_CATEGORY_SEXUALLY_EXPLICIT\n",
      "probability: NEGLIGIBLE\n",
      "probability_score: 0.0311279297\n",
      "severity: HARM_SEVERITY_NEGLIGIBLE\n",
      "severity_score: 0.13671875\n",
      "]\n"
     ]
    }
   ],
   "source": [
    "question = \"\"\"\n",
    "  Give me a summary of this codebase, and tell me the top 3 things that I can learn from it.\n",
    "\"\"\"\n",
    "\n",
    "prompt = get_code_prompt(question)\n",
    "contents = [prompt]\n",
    "\n",
    "# Generate text using non-streaming method\n",
    "response = model.generate_content(contents)\n",
    "\n",
    "# Print generated text and usage metadata\n",
    "print(f\"\\nAnswer:\\n{response.text}\")\n",
    "print(f'\\nUsage metadata:\\n{response.to_dict().get(\"usage_metadata\")}')\n",
    "print(f\"\\nFinish reason:\\n{response.candidates[0].finish_reason}\")\n",
    "print(f\"\\nSafety settings:\\n{response.candidates[0].safety_ratings}\")"
   ]
  },
  {
   "cell_type": "markdown",
   "metadata": {
    "id": "aCshJHPCYoxI"
   },
   "source": [
    "### 2. Creating a developer getting started guide\n",
    "\n",
    "Generate a getting started guide for developers. This sample uses the streaming option to generate the content."
   ]
  },
  {
   "cell_type": "code",
   "execution_count": 10,
   "metadata": {
    "id": "e6Kns7vCYm1P"
   },
   "outputs": [
    {
     "data": {
      "text/markdown": [
       "```"
      ],
      "text/plain": [
       "<IPython.core.display.Markdown object>"
      ]
     },
     "execution_count": 10,
     "metadata": {},
     "output_type": "execute_result"
    },
    {
     "data": {
      "text/markdown": [
       "\n",
       "## Getting Started with the Online Boutique Codebase\n",
       "\n",
       "Welcome to the Online Boutique"
      ],
      "text/plain": [
       "<IPython.core.display.Markdown object>"
      ]
     },
     "execution_count": 10,
     "metadata": {},
     "output_type": "execute_result"
    },
    {
     "data": {
      "text/markdown": [
       " microservices demo application! This guide will help you get familiar with the codebase"
      ],
      "text/plain": [
       "<IPython.core.display.Markdown object>"
      ]
     },
     "execution_count": 10,
     "metadata": {},
     "output_type": "execute_result"
    },
    {
     "data": {
      "text/markdown": [
       " and start contributing.\n",
       "\n",
       "**1. Understanding the Architecture**\n",
       "\n",
       "Online Boutique is a cloud-native microservices demo showcasing various technologies like Kubernetes, gRPC,"
      ],
      "text/plain": [
       "<IPython.core.display.Markdown object>"
      ]
     },
     "execution_count": 10,
     "metadata": {},
     "output_type": "execute_result"
    },
    {
     "data": {
      "text/markdown": [
       " and Google Cloud Platform services. It simulates an e-commerce application where users can browse products, add them to a cart, and purchase them.\n",
       "\n",
       "The application"
      ],
      "text/plain": [
       "<IPython.core.display.Markdown object>"
      ]
     },
     "execution_count": 10,
     "metadata": {},
     "output_type": "execute_result"
    },
    {
     "data": {
      "text/markdown": [
       " comprises 11 microservices written in different languages, communicating via gRPC:\n",
       "\n",
       "- **frontend (Go):** Serves the website and user interface.\n",
       "- **cartservice (C#):** Manages user shopping carts using Redis"
      ],
      "text/plain": [
       "<IPython.core.display.Markdown object>"
      ]
     },
     "execution_count": 10,
     "metadata": {},
     "output_type": "execute_result"
    },
    {
     "data": {
      "text/markdown": [
       ", Spanner, or AlloyDB.\n",
       "- **productcatalogservice (Go):** Provides product information from a JSON file or AlloyDB.\n",
       "- **currencyservice (Node.js):** Performs currency conversions using real-"
      ],
      "text/plain": [
       "<IPython.core.display.Markdown object>"
      ]
     },
     "execution_count": 10,
     "metadata": {},
     "output_type": "execute_result"
    },
    {
     "data": {
      "text/markdown": [
       "time data.\n",
       "- **paymentservice (Node.js):** Processes payments (simulated).\n",
       "- **shippingservice (Go):** Calculates shipping costs and simulates shipping.\n",
       "- **emailservice (Python):** Sends order confirmation emails (simulated).\n",
       "- **checkoutservice (Go):"
      ],
      "text/plain": [
       "<IPython.core.display.Markdown object>"
      ]
     },
     "execution_count": 10,
     "metadata": {},
     "output_type": "execute_result"
    },
    {
     "data": {
      "text/markdown": [
       "** Orchestrates the checkout process.\n",
       "- **recommendationservice (Python):** Recommends products based on cart contents.\n",
       "- **adservice (Java):** Delivers context-aware advertisements.\n",
       "- **loadgenerator (Python/Locust):** Simulates user traffic.\n",
       "- **shoppingassistants"
      ],
      "text/plain": [
       "<IPython.core.display.Markdown object>"
      ]
     },
     "execution_count": 10,
     "metadata": {},
     "output_type": "execute_result"
    },
    {
     "data": {
      "text/markdown": [
       "ervice (Python):** Gemini-powered AI assistant for product suggestions.\n",
       "\n",
       "**2. Setting up Your Development Environment**\n",
       "\n",
       "- **Install Prerequisites:**\n",
       "    - **Docker:** Download and install Docker Desktop from [https://www.docker.com/products/docker-desktop](https://www.docker.com"
      ],
      "text/plain": [
       "<IPython.core.display.Markdown object>"
      ]
     },
     "execution_count": 10,
     "metadata": {},
     "output_type": "execute_result"
    },
    {
     "data": {
      "text/markdown": [
       "/products/docker-desktop).\n",
       "    - **kubectl:** Install kubectl using your preferred method. One option is: `gcloud components install kubectl`.\n",
       "    - **skaffold:** Install skaffold (version 2.0.2 or later) from [https://skaffold.dev/docs"
      ],
      "text/plain": [
       "<IPython.core.display.Markdown object>"
      ]
     },
     "execution_count": 10,
     "metadata": {},
     "output_type": "execute_result"
    },
    {
     "data": {
      "text/markdown": [
       "/install/](https://skaffold.dev/docs/install/).\n",
       "    - **Programming Language SDKs:** Install the necessary SDKs for Go, C#, Node.js, Python, and Java.\n",
       "- **Clone the Repository:**\n",
       "    ```bash\n",
       "    git clone https://github.com/"
      ],
      "text/plain": [
       "<IPython.core.display.Markdown object>"
      ]
     },
     "execution_count": 10,
     "metadata": {},
     "output_type": "execute_result"
    },
    {
     "data": {
      "text/markdown": [
       "GoogleCloudPlatform/microservices-demo\n",
       "    cd microservices-demo\n",
       "    ```\n",
       "\n",
       "**3. Building and Running Locally**\n",
       "\n",
       "- **Choose a Deployment Option:**\n",
       "    - **Google Kubernetes Engine (GKE):** For a realistic cloud environment.\n",
       "    - **Local Cluster (Minikube,"
      ],
      "text/plain": [
       "<IPython.core.display.Markdown object>"
      ]
     },
     "execution_count": 10,
     "metadata": {},
     "output_type": "execute_result"
    },
    {
     "data": {
      "text/markdown": [
       " Kind, Docker Desktop):** For quick testing and development.\n",
       "- **Follow Instructions for Your Chosen Option:**\n",
       "    - Detailed instructions for each option are available in the [`docs/development-guide.md`](docs/development-guide.md) file.\n",
       "- **Build and Deploy:**\n",
       "    ```"
      ],
      "text/plain": [
       "<IPython.core.display.Markdown object>"
      ]
     },
     "execution_count": 10,
     "metadata": {},
     "output_type": "execute_result"
    },
    {
     "data": {
      "text/markdown": [
       "bash\n",
       "    skaffold run --default-repo=gcr.io/[PROJECT_ID] # For GKE, replace [PROJECT_ID]\n",
       "    skaffold run # For local cluster\n",
       "    ```\n",
       "\n",
       "**4. Exploring the Code**\n",
       "\n",
       "- **Microservice Directories:** Each microservice has its"
      ],
      "text/plain": [
       "<IPython.core.display.Markdown object>"
      ]
     },
     "execution_count": 10,
     "metadata": {},
     "output_type": "execute_result"
    },
    {
     "data": {
      "text/markdown": [
       " own directory within the `src` folder.\n",
       "- **Protocol Buffer Definitions:** The `protos` directory contains the gRPC service definitions using Protocol Buffers.\n",
       "- **Kubernetes Manifests:** The `kubernetes-manifests` directory contains the Kubernetes deployment files.\n",
       "- **Kustomize Configurations:** The `k"
      ],
      "text/plain": [
       "<IPython.core.display.Markdown object>"
      ]
     },
     "execution_count": 10,
     "metadata": {},
     "output_type": "execute_result"
    },
    {
     "data": {
      "text/markdown": [
       "ustomize` directory provides various configurations for customizing deployments.\n",
       "\n",
       "**5. Contributing to the Project**\n",
       "\n",
       "- **Read the Contribution Guidelines:** The [`CONTRIBUTING.md`](.github/CONTRIBUTING.md) file outlines the contribution process and requirements.\n",
       "- **Submit Pull Requests:** Fork the repository, make"
      ],
      "text/plain": [
       "<IPython.core.display.Markdown object>"
      ]
     },
     "execution_count": 10,
     "metadata": {},
     "output_type": "execute_result"
    },
    {
     "data": {
      "text/markdown": [
       " your changes, and submit a pull request.\n",
       "- **Join the Discussion:** Participate in discussions on GitHub issues.\n",
       "\n",
       "We welcome contributions from the community!\n",
       "```\n",
       "\n",
       "**Additional Tips:**\n",
       "\n",
       "- Use an IDE with good support for your chosen programming languages.\n",
       "- Familiarize yourself with gRPC and Protocol Buffers"
      ],
      "text/plain": [
       "<IPython.core.display.Markdown object>"
      ]
     },
     "execution_count": 10,
     "metadata": {},
     "output_type": "execute_result"
    },
    {
     "data": {
      "text/markdown": [
       ".\n",
       "- Explore the Kustomize components for deploying variations of Online Boutique.\n",
       "- Use the load generator to test the performance and scalability of the application.\n",
       "\n",
       "If you have any questions or need further assistance, please don't hesitate to create a GitHub issue. Happy coding!\n"
      ],
      "text/plain": [
       "<IPython.core.display.Markdown object>"
      ]
     },
     "execution_count": 10,
     "metadata": {},
     "output_type": "execute_result"
    },
    {
     "data": {
      "text/markdown": [],
      "text/plain": [
       "<IPython.core.display.Markdown object>"
      ]
     },
     "execution_count": 10,
     "metadata": {},
     "output_type": "execute_result"
    }
   ],
   "source": [
    "question = \"\"\"\n",
    "  Provide a getting started guide to onboard new developers to the codebase.\n",
    "\"\"\"\n",
    "\n",
    "prompt = get_code_prompt(question)\n",
    "contents = [prompt]\n",
    "\n",
    "responses = model.generate_content(contents, stream=True)\n",
    "for response in responses:\n",
    "    IPython.display.Markdown(response.text)"
   ]
  },
  {
   "cell_type": "markdown",
   "metadata": {
    "id": "hXurINu-jelb"
   },
   "source": [
    "### 3. Finding bugs\n",
    "\n",
    "Find the top 3 most severe issues in the codebase."
   ]
  },
  {
   "cell_type": "code",
   "execution_count": 11,
   "metadata": {
    "id": "fy3AWPRgNhu_"
   },
   "outputs": [
    {
     "data": {
      "text/markdown": [
       "```"
      ],
      "text/plain": [
       "<IPython.core.display.Markdown object>"
      ]
     },
     "execution_count": 11,
     "metadata": {},
     "output_type": "execute_result"
    },
    {
     "data": {
      "text/markdown": [
       "python\n",
       "    def ListRecommendations(self, request, context):\n",
       "        max"
      ],
      "text/plain": [
       "<IPython.core.display.Markdown object>"
      ]
     },
     "execution_count": 11,
     "metadata": {},
     "output_type": "execute_result"
    },
    {
     "data": {
      "text/markdown": [
       "_responses = 5\n",
       "        # fetch list of products from product catalog stub"
      ],
      "text/plain": [
       "<IPython.core.display.Markdown object>"
      ]
     },
     "execution_count": 11,
     "metadata": {},
     "output_type": "execute_result"
    },
    {
     "data": {
      "text/markdown": [
       "\n",
       "        cat_response = product_catalog_stub.ListProducts(demo_pb2.Empty())\n",
       "        product_ids = [x.id"
      ],
      "text/plain": [
       "<IPython.core.display.Markdown object>"
      ]
     },
     "execution_count": 11,
     "metadata": {},
     "output_type": "execute_result"
    },
    {
     "data": {
      "text/markdown": [
       " for x in cat_response.products]\n",
       "        filtered_products = list(set(product_ids)-set(request.product_ids))\n"
      ],
      "text/plain": [
       "<IPython.core.display.Markdown object>"
      ]
     },
     "execution_count": 11,
     "metadata": {},
     "output_type": "execute_result"
    },
    {
     "data": {
      "text/markdown": [
       "        num_products = len(filtered_products)\n",
       "        num_return = min(max_responses, num_products)\n",
       "        # sample list of indicies to return\n",
       "        indices = random.sample(range(num"
      ],
      "text/plain": [
       "<IPython.core.display.Markdown object>"
      ]
     },
     "execution_count": 11,
     "metadata": {},
     "output_type": "execute_result"
    },
    {
     "data": {
      "text/markdown": [
       "_products), num_return)\n",
       "        # fetch product ids from indices\n",
       "        prod_list = [filtered_products[i] for i in indices]\n",
       "        logger.info(\"[Recv ListRecommendations] product_ids={}\"."
      ],
      "text/plain": [
       "<IPython.core.display.Markdown object>"
      ]
     },
     "execution_count": 11,
     "metadata": {},
     "output_type": "execute_result"
    },
    {
     "data": {
      "text/markdown": [
       "format(prod_list))\n",
       "        # build and return response\n",
       "        response = demo_pb2.ListRecommendationsResponse()\n",
       "        response.product_ids.extend(prod_list)\n",
       "        return response\n",
       "```\n",
       "\n",
       "**Issue 1:** `ListRecommendations` in `recommendationservice/recommendation_server"
      ],
      "text/plain": [
       "<IPython.core.display.Markdown object>"
      ]
     },
     "execution_count": 11,
     "metadata": {},
     "output_type": "execute_result"
    },
    {
     "data": {
      "text/markdown": [
       ".py` uses inefficient list operations. The use of `set(product_ids)-set(request.product_ids)` to filter products and list indexing to retrieve product IDs from indices is inefficient for larger lists.  This could lead to performance bottlenecks as the product catalog grows.\n",
       "\n",
       "**Proposed Solution:** Using list"
      ],
      "text/plain": [
       "<IPython.core.display.Markdown object>"
      ]
     },
     "execution_count": 11,
     "metadata": {},
     "output_type": "execute_result"
    },
    {
     "data": {
      "text/markdown": [
       " comprehensions or more efficient data structures like dictionaries for filtering and retrieving product IDs would significantly improve performance. For example, converting `product_ids` and `request.product_ids` to sets once outside the loop and using set operations for filtering would be more efficient.\n",
       "\n",
       "```python\n",
       "  if reloadCatalog || len"
      ],
      "text/plain": [
       "<IPython.core.display.Markdown object>"
      ]
     },
     "execution_count": 11,
     "metadata": {},
     "output_type": "execute_result"
    },
    {
     "data": {
      "text/markdown": [
       "(p.catalog.Products) == 0 {\n",
       "    err := loadCatalog(&p.catalog)\n",
       "    if err != nil {\n",
       "      return []*pb.Product{}\n",
       "    }\n",
       "  }\n",
       "```\n",
       "\n",
       "**Issue 2:** `parseCatalog` in `productcatalogservice/product_catalog"
      ],
      "text/plain": [
       "<IPython.core.display.Markdown object>"
      ]
     },
     "execution_count": 11,
     "metadata": {},
     "output_type": "execute_result"
    },
    {
     "data": {
      "text/markdown": [
       ".go` reloads the catalog unnecessarily on every request when `reloadCatalog` is enabled. This results in a significant delay in processing requests.\n",
       "\n",
       "**Proposed Solution:** Implement a more efficient mechanism for catalog reloading, such as using a file watcher or a timer to trigger reloading only when the `products.json` file"
      ],
      "text/plain": [
       "<IPython.core.display.Markdown object>"
      ]
     },
     "execution_count": 11,
     "metadata": {},
     "output_type": "execute_result"
    },
    {
     "data": {
      "text/markdown": [
       " changes. This would minimize unnecessary reloads and improve response times.\n",
       "\n",
       "```python\n",
       "    def getSupportedCurrencies(self, request, context):\n",
       "        # MISSING: implementation to call Currency Service\n",
       "        return demo_pb2.GetSupportedCurrenciesResponse(\n",
       "            currency_codes=[\n",
       "                \"USD\", \""
      ],
      "text/plain": [
       "<IPython.core.display.Markdown object>"
      ]
     },
     "execution_count": 11,
     "metadata": {},
     "output_type": "execute_result"
    },
    {
     "data": {
      "text/markdown": [
       "EUR\", \"CAD\", \"GBP\", \"JPY\"\n",
       "            ]\n",
       "        )\n",
       "```\n",
       "\n",
       "**Issue 3:** `getSupportedCurrencies` in `currencyservice/server.js` returns a static list of currencies. This should call the `CurrencyService` to fetch supported currencies dynamically.\n",
       "\n",
       "**"
      ],
      "text/plain": [
       "<IPython.core.display.Markdown object>"
      ]
     },
     "execution_count": 11,
     "metadata": {},
     "output_type": "execute_result"
    },
    {
     "data": {
      "text/markdown": [
       "Proposed Solution:** Implement the call to the `CurrencyService` within `getSupportedCurrencies` to retrieve the list of supported currencies. This would ensure the returned list is up-to-date and aligned with the currencies supported by the `CurrencyService`. \n"
      ],
      "text/plain": [
       "<IPython.core.display.Markdown object>"
      ]
     },
     "execution_count": 11,
     "metadata": {},
     "output_type": "execute_result"
    },
    {
     "data": {
      "text/markdown": [],
      "text/plain": [
       "<IPython.core.display.Markdown object>"
      ]
     },
     "execution_count": 11,
     "metadata": {},
     "output_type": "execute_result"
    }
   ],
   "source": [
    "question = \"\"\"\n",
    "  Find the top 3 most severe issues in the codebase.\n",
    "\"\"\"\n",
    "\n",
    "prompt = get_code_prompt(question)\n",
    "contents = [prompt]\n",
    "\n",
    "responses = model.generate_content(contents, stream=True)\n",
    "for response in responses:\n",
    "    IPython.display.Markdown(response.text)"
   ]
  },
  {
   "cell_type": "markdown",
   "metadata": {
    "id": "HCilrR6FjmfB"
   },
   "source": [
    "### 4. Fixing bug\n",
    "\n",
    "Find the most severe issue in the codebase that can be fixed and provide a code fix for it.\n"
   ]
  },
  {
   "cell_type": "code",
   "execution_count": 12,
   "metadata": {
    "id": "dwjDh0xGKE2r"
   },
   "outputs": [
    {
     "data": {
      "text/markdown": [
       "```"
      ],
      "text/plain": [
       "<IPython.core.display.Markdown object>"
      ]
     },
     "execution_count": 12,
     "metadata": {},
     "output_type": "execute_result"
    },
    {
     "data": {
      "text/markdown": [
       "diff\n",
       "--- a/src/cartservice/src/cartstore/Alloy"
      ],
      "text/plain": [
       "<IPython.core.display.Markdown object>"
      ]
     },
     "execution_count": 12,
     "metadata": {},
     "output_type": "execute_result"
    },
    {
     "data": {
      "text/markdown": [
       "DBCartStore.cs\n",
       "+++ b/src/cartservice/src/"
      ],
      "text/plain": [
       "<IPython.core.display.Markdown object>"
      ]
     },
     "execution_count": 12,
     "metadata": {},
     "output_type": "execute_result"
    },
    {
     "data": {
      "text/markdown": [
       "cartstore/AlloyDBCartStore.cs\n",
       "@@ -62,7 +62,7 @@\n",
       "                 }\n",
       "                 var totalQuantity = quantity"
      ],
      "text/plain": [
       "<IPython.core.display.Markdown object>"
      ]
     },
     "execution_count": 12,
     "metadata": {},
     "output_type": "execute_result"
    },
    {
     "data": {
      "text/markdown": [
       " + currentQuantity;\n",
       " \n",
       "-                var insertCmd = $\"INSERT INTO {tableName} (userId, productId, quantity) VALUES ('{userId}', '{"
      ],
      "text/plain": [
       "<IPython.core.display.Markdown object>"
      ]
     },
     "execution_count": 12,
     "metadata": {},
     "output_type": "execute_result"
    },
    {
     "data": {
      "text/markdown": [
       "productId}', {totalQuantity})\";\n",
       "+                var insertCmd = $\"INSERT INTO {tableName} (userId, productId, quantity) VALUES ('{userId}', '{productId}', {totalQuantity}) ON CONFLICT (userId, productId) DO"
      ],
      "text/plain": [
       "<IPython.core.display.Markdown object>"
      ]
     },
     "execution_count": 12,
     "metadata": {},
     "output_type": "execute_result"
    },
    {
     "data": {
      "text/markdown": [
       " UPDATE SET quantity = EXCLUDED.quantity\";\n",
       "                 await using (var cmdInsert = dataSource.CreateCommand(insertCmd))\n",
       "                 {\n",
       "                     await Task.Run(() =>\n",
       "\n",
       "```\n",
       "\n",
       "The bug is in the `AddItem"
      ],
      "text/plain": [
       "<IPython.core.display.Markdown object>"
      ]
     },
     "execution_count": 12,
     "metadata": {},
     "output_type": "execute_result"
    },
    {
     "data": {
      "text/markdown": [
       "Async` method of `AlloyDBCartStore.cs`. The insert command does not account for conflicts in `userId` and `productId`, and will throw an exception if an insert is attempted for a `userId` and `productId` that already exists.\n",
       "\n",
       "The fix is to update the `insertCmd` to use"
      ],
      "text/plain": [
       "<IPython.core.display.Markdown object>"
      ]
     },
     "execution_count": 12,
     "metadata": {},
     "output_type": "execute_result"
    },
    {
     "data": {
      "text/markdown": [
       " `ON CONFLICT` to handle the case of an existing `userId` and `productId`, updating the `quantity` to the `EXCLUDED.quantity` in that case:\n",
       "\n",
       "```sql\n",
       "INSERT INTO {tableName} (userId, productId, quantity) VALUES ('{userId}', '{productId}', {totalQuantity"
      ],
      "text/plain": [
       "<IPython.core.display.Markdown object>"
      ]
     },
     "execution_count": 12,
     "metadata": {},
     "output_type": "execute_result"
    },
    {
     "data": {
      "text/markdown": [
       "}) ON CONFLICT (userId, productId) DO UPDATE SET quantity = EXCLUDED.quantity\n",
       "```\n",
       "\n",
       "This will prevent the exception from being thrown and properly update the existing quantity if a `userId`/`productId` pair already exists.\n"
      ],
      "text/plain": [
       "<IPython.core.display.Markdown object>"
      ]
     },
     "execution_count": 12,
     "metadata": {},
     "output_type": "execute_result"
    },
    {
     "data": {
      "text/markdown": [],
      "text/plain": [
       "<IPython.core.display.Markdown object>"
      ]
     },
     "execution_count": 12,
     "metadata": {},
     "output_type": "execute_result"
    }
   ],
   "source": [
    "question = \"\"\"\n",
    "  Find the most severe bug in the codebase that you can provide a code fix for.\n",
    "\"\"\"\n",
    "\n",
    "prompt = get_code_prompt(question)\n",
    "contents = [prompt]\n",
    "\n",
    "responses = model.generate_content(contents, stream=True)\n",
    "for response in responses:\n",
    "    IPython.display.Markdown(response.text)"
   ]
  },
  {
   "cell_type": "markdown",
   "metadata": {
    "id": "8w2pCULT_xKE"
   },
   "source": [
    "### 5. Implementing a feature request using Function Calling\n",
    "\n",
    "Generate code to implement a feature request.\n",
    "\n",
    "Get feature request text from GitHub Issue"
   ]
  },
  {
   "cell_type": "code",
   "execution_count": 13,
   "metadata": {
    "id": "mMjOy0gJ1_xx"
   },
   "outputs": [
    {
     "data": {
      "text/markdown": [
       "Feature Request:\n",
       "### Describe request or inquiry \r\n",
       "helm chart frontend-external support config service type nodeport, like this\r\n",
       "```\r\n",
       "helm install xxx --set frontend.service.type=NodePort\r\n",
       "```\r\n",
       "\r\n",
       "### What purpose/environment will this feature serve? \r\n",
       "\r\n",
       "This feature enables quick access to the front-end web interface of microservices without the need for additional configuration work.\r\n",
       "\r\n",
       "I hope to quickly access the web interface after deploying this microservice in the local environment, without the need for additional loadbalancer or ingress configuration, just nodeport is enouth.\r\n",
       "\r\n",
       "But now that the deployment is complete, I must manually edit the service and modify the nodeport. If Helm provides parameters to set the nodeport, I don't need to。\r\n"
      ],
      "text/plain": [
       "<IPython.core.display.Markdown object>"
      ]
     },
     "execution_count": 13,
     "metadata": {},
     "output_type": "execute_result"
    }
   ],
   "source": [
    "# Function declaration with detailed docstring\n",
    "extract_details_from_url_func = FunctionDeclaration(\n",
    "    name=\"extract_details_from_url\",\n",
    "    description=\"Extracts owner, repository name, and issue number details from a GitHub issue URL\",\n",
    "    parameters={\n",
    "        \"type\": \"object\",\n",
    "        \"properties\": {\n",
    "            \"owner\": {\n",
    "                \"type\": \"string\",\n",
    "                \"description\": \"The owner of the GitHub repository.\",\n",
    "            },\n",
    "            \"repo\": {\n",
    "                \"type\": \"string\",\n",
    "                \"description\": \"The name of the GitHub repository.\",\n",
    "            },\n",
    "            \"issue_number\": {\n",
    "                \"type\": \"string\",\n",
    "                \"description\": \"The issue number to fetch the body of.\",\n",
    "            },\n",
    "        },\n",
    "    },\n",
    ")\n",
    "\n",
    "# Tool definition\n",
    "extraction_tool = Tool(function_declarations=[extract_details_from_url_func])\n",
    "\n",
    "FEATURE_REQUEST_URL = (\n",
    "    \"https://github.com/GoogleCloudPlatform/microservices-demo/issues/2205\"\n",
    ")\n",
    "\n",
    "# Prompt content\n",
    "prompt_content = f\"What is the feature request of the following {FEATURE_REQUEST_URL}\"\n",
    "\n",
    "# Model generation with tool usage\n",
    "response = model.generate_content(\n",
    "    [prompt_content],\n",
    "    generation_config=GenerationConfig(temperature=0),\n",
    "    tools=[extraction_tool],\n",
    ")\n",
    "# Extract parameters from model response\n",
    "function_call = response.candidates[0].function_calls[0]\n",
    "\n",
    "# Fetch issue details from GitHub API if function call matches\n",
    "if function_call.name == \"extract_details_from_url\":\n",
    "    issue_body = get_github_issue(\n",
    "        function_call.args[\"owner\"],\n",
    "        function_call.args[\"repo\"],\n",
    "        function_call.args[\"issue_number\"],\n",
    "    )\n",
    "\n",
    "IPython.display.Markdown(f\"Feature Request:\\n{issue_body}\")"
   ]
  },
  {
   "cell_type": "markdown",
   "metadata": {},
   "source": [
    "Use the GitHub Issue text to implement the feature request"
   ]
  },
  {
   "cell_type": "code",
   "execution_count": 14,
   "metadata": {},
   "outputs": [
    {
     "data": {
      "text/markdown": [
       "```diff\n",
       "--- a/helm-chart/templates/frontend.yaml\n",
       "+++ b/helm-chart/templates/frontend.yaml\n",
       "@@ -32,6 +32,8 @@\n",
       "   cymbalBranding: false\n",
       "   # One of: local, gcp, aws, azure, onprem, alibaba. When not set, defaults to \"local\" unless running in GKE, otherwise auto-sets to gcp.\n",
       "   platform: local\n",
       "+  # Type of service, could be LoadBalancer, NodePort or ClusterIP.\n",
       "+  serviceType: LoadBalancer\n",
       "   singleSharedSession: false\n",
       "   virtualService:\n",
       "     create: false\n",
       "@@ -86,7 +88,7 @@\n",
       "   name: {{ .Values.frontend.name }}\n",
       "   namespace: {{ .Release.Namespace }}\n",
       "   labels:\n",
       "-    app: {{ .Values.frontend.name }}\n",
       "+    app: {{ include \"common.name\" . }}\n",
       " spec:\n",
       "   type: ClusterIP\n",
       "   selector:\n",
       "@@ -99,7 +101,8 @@\n",
       " metadata:\n",
       "   name: {{ .Values.frontend.name }}-external\n",
       "   namespace: {{ .Release.Namespace }}\n",
       "-spec:\n",
       "+  labels:\n",
       "+    app: {{ include \"common.name\" . }}\n",
       "   type: {{ .Values.frontend.serviceType }}\n",
       "   selector:\n",
       "     app: {{ .Values.frontend.name }}\n",
       "\n",
       "```"
      ],
      "text/plain": [
       "<IPython.core.display.Markdown object>"
      ]
     },
     "execution_count": 14,
     "metadata": {},
     "output_type": "execute_result"
    }
   ],
   "source": [
    "# Combine feature request with URL and get code prompt\n",
    "question = (\n",
    "    \"Implement the following feature request\" + FEATURE_REQUEST_URL + \"\\n\" + issue_body\n",
    ")\n",
    "\n",
    "prompt = get_code_prompt(question)\n",
    "\n",
    "# Generate code response\n",
    "response = model.generate_content([prompt])\n",
    "IPython.display.Markdown(response.text)  # Display in Markdown format"
   ]
  },
  {
   "cell_type": "markdown",
   "metadata": {
    "id": "TOk_Qe35b_cJ"
   },
   "source": [
    "### 6. Creating a troubleshooting guide\n",
    "\n",
    "Create a troubleshooting guide to help resolve common issues."
   ]
  },
  {
   "cell_type": "code",
   "execution_count": 15,
   "metadata": {
    "id": "DKn85LS-v0iw"
   },
   "outputs": [
    {
     "data": {
      "text/markdown": [
       "```"
      ],
      "text/plain": [
       "<IPython.core.display.Markdown object>"
      ]
     },
     "execution_count": 15,
     "metadata": {},
     "output_type": "execute_result"
    },
    {
     "data": {
      "text/markdown": [
       "\n",
       "## Online Boutique Troubleshooting Guide\n",
       "\n",
       "This guide helps you troubleshoot common issues encountered when"
      ],
      "text/plain": [
       "<IPython.core.display.Markdown object>"
      ]
     },
     "execution_count": 15,
     "metadata": {},
     "output_type": "execute_result"
    },
    {
     "data": {
      "text/markdown": [
       " running the Online Boutique microservices demo.\n",
       "\n",
       "**Table of Contents**\n",
       "\n",
       "-"
      ],
      "text/plain": [
       "<IPython.core.display.Markdown object>"
      ]
     },
     "execution_count": 15,
     "metadata": {},
     "output_type": "execute_result"
    },
    {
     "data": {
      "text/markdown": [
       " [General Troubleshooting](#general-troubleshooting)\n",
       "  - [Check Pod Status](#check-pod-status)\n",
       "  - [Examine Pod Logs](#examine"
      ],
      "text/plain": [
       "<IPython.core.display.Markdown object>"
      ]
     },
     "execution_count": 15,
     "metadata": {},
     "output_type": "execute_result"
    },
    {
     "data": {
      "text/markdown": [
       "-pod-logs)\n",
       "  - [Verify Service Connectivity](#verify-service-connectivity)\n",
       "  - [Resource Constraints](#resource-constraints)\n",
       "-"
      ],
      "text/plain": [
       "<IPython.core.display.Markdown object>"
      ]
     },
     "execution_count": 15,
     "metadata": {},
     "output_type": "execute_result"
    },
    {
     "data": {
      "text/markdown": [
       " [Service-Specific Troubleshooting](#service-specific-troubleshooting)\n",
       "  - [Frontend](#frontend)\n",
       "  - [CartService](#cartservice)\n",
       "  - [ProductCatalogService](#productcatalogservice)\n",
       "  - [Currency"
      ],
      "text/plain": [
       "<IPython.core.display.Markdown object>"
      ]
     },
     "execution_count": 15,
     "metadata": {},
     "output_type": "execute_result"
    },
    {
     "data": {
      "text/markdown": [
       "Service](#currencyservice)\n",
       "  - [PaymentService](#paymentservice)\n",
       "  - [ShippingService](#shippingservice)\n",
       "  - [EmailService](#emailservice)\n",
       "  - [CheckoutService](#checkoutservice"
      ],
      "text/plain": [
       "<IPython.core.display.Markdown object>"
      ]
     },
     "execution_count": 15,
     "metadata": {},
     "output_type": "execute_result"
    },
    {
     "data": {
      "text/markdown": [
       ")\n",
       "  - [RecommendationService](#recommendationservice)\n",
       "  - [AdService](#adservice)\n",
       "- [Troubleshooting Tools](#troubleshooting-tools)\n",
       "  - [kubectl](#kubectl)\n",
       "  - [skaffold](#skaffold)\n",
       "  - [Docker](#docker)\n",
       "  - [Google Cloud"
      ],
      "text/plain": [
       "<IPython.core.display.Markdown object>"
      ]
     },
     "execution_count": 15,
     "metadata": {},
     "output_type": "execute_result"
    },
    {
     "data": {
      "text/markdown": [
       " Operations Suite](#google-cloud-operations-suite)\n",
       "\n",
       "## General Troubleshooting\n",
       "\n",
       "### Check Pod Status\n",
       "\n",
       "- Use `kubectl get pods` to check the status of your pods.\n",
       "- Look for pods with `STATUS` other than `Running` (e.g., `Pending`, `Error`, `CrashLoop"
      ],
      "text/plain": [
       "<IPython.core.display.Markdown object>"
      ]
     },
     "execution_count": 15,
     "metadata": {},
     "output_type": "execute_result"
    },
    {
     "data": {
      "text/markdown": [
       "BackOff`).\n",
       "\n",
       "### Examine Pod Logs\n",
       "\n",
       "- Use `kubectl logs <pod-name>` to view logs for a specific pod.\n",
       "- Look for error messages or stack traces that can indicate the cause of the issue.\n",
       "\n",
       "### Verify Service Connectivity\n",
       "\n",
       "- Use `kubectl get services` to check the status of your"
      ],
      "text/plain": [
       "<IPython.core.display.Markdown object>"
      ]
     },
     "execution_count": 15,
     "metadata": {},
     "output_type": "execute_result"
    },
    {
     "data": {
      "text/markdown": [
       " services.\n",
       "- Make sure services have the correct `CLUSTER-IP` and `EXTERNAL-IP` (if applicable).\n",
       "- Test connectivity between services using tools like `curl` or `grpcurl`.\n",
       "\n",
       "### Resource Constraints\n",
       "\n",
       "- Verify that your cluster nodes have sufficient CPU, memory, and disk resources.\n"
      ],
      "text/plain": [
       "<IPython.core.display.Markdown object>"
      ]
     },
     "execution_count": 15,
     "metadata": {},
     "output_type": "execute_result"
    },
    {
     "data": {
      "text/markdown": [
       "- Increase resource requests and limits in your deployment manifests if necessary.\n",
       "\n",
       "## Service-Specific Troubleshooting\n",
       "\n",
       "### Frontend\n",
       "\n",
       "- **Issue:** Website not accessible.\n",
       "  - **Possible Causes:** Frontend pod not running, service not exposed correctly, network connectivity issues.\n",
       "  - **Troubleshooting Steps:** \n",
       "    - Check"
      ],
      "text/plain": [
       "<IPython.core.display.Markdown object>"
      ]
     },
     "execution_count": 15,
     "metadata": {},
     "output_type": "execute_result"
    },
    {
     "data": {
      "text/markdown": [
       " frontend pod status and logs.\n",
       "    - Verify `frontend-external` service has an `EXTERNAL-IP`.\n",
       "    - Test connectivity to the frontend service using `curl`.\n",
       "- **Issue:** Currency conversion not working.\n",
       "  - **Possible Causes:** Currency service not running, incorrect service address in frontend configuration"
      ],
      "text/plain": [
       "<IPython.core.display.Markdown object>"
      ]
     },
     "execution_count": 15,
     "metadata": {},
     "output_type": "execute_result"
    },
    {
     "data": {
      "text/markdown": [
       ".\n",
       "  - **Troubleshooting Steps:**\n",
       "    - Check currency service pod status and logs.\n",
       "    - Verify `CURRENCY_SERVICE_ADDR` environment variable in the frontend deployment.\n",
       "\n",
       "### CartService\n",
       "\n",
       "- **Issue:** Unable to add items to cart.\n",
       "  - **Possible Causes:** Cart service not running"
      ],
      "text/plain": [
       "<IPython.core.display.Markdown object>"
      ]
     },
     "execution_count": 15,
     "metadata": {},
     "output_type": "execute_result"
    },
    {
     "data": {
      "text/markdown": [
       ", Redis connection issues.\n",
       "  - **Troubleshooting Steps:**\n",
       "    - Check cart service pod status and logs.\n",
       "    - Verify `REDIS_ADDR` environment variable in the cart service deployment.\n",
       "    - Check Redis pod status and logs.\n",
       "- **Issue:** Cart data not persistent.\n",
       "  - **"
      ],
      "text/plain": [
       "<IPython.core.display.Markdown object>"
      ]
     },
     "execution_count": 15,
     "metadata": {},
     "output_type": "execute_result"
    },
    {
     "data": {
      "text/markdown": [
       "Possible Causes:** Redis persistence misconfigured.\n",
       "  - **Troubleshooting Steps:**\n",
       "    - Verify Redis persistence settings (e.g., `appendonly`, `save`) in the Redis configuration file.\n",
       "\n",
       "### ProductCatalogService\n",
       "\n",
       "- **Issue:** Products not loading.\n",
       "  - **Possible Causes:** Product catalog service"
      ],
      "text/plain": [
       "<IPython.core.display.Markdown object>"
      ]
     },
     "execution_count": 15,
     "metadata": {},
     "output_type": "execute_result"
    },
    {
     "data": {
      "text/markdown": [
       " not running, issues loading products from `products.json` file.\n",
       "  - **Troubleshooting Steps:**\n",
       "    - Check product catalog service pod status and logs.\n",
       "    - Verify the `products.json` file exists and is valid JSON.\n",
       "\n",
       "### CurrencyService\n",
       "\n",
       "- **Issue:** Currency conversion not working."
      ],
      "text/plain": [
       "<IPython.core.display.Markdown object>"
      ]
     },
     "execution_count": 15,
     "metadata": {},
     "output_type": "execute_result"
    },
    {
     "data": {
      "text/markdown": [
       "\n",
       "  - **Possible Causes:** Currency service not running, issues fetching currency data.\n",
       "  - **Troubleshooting Steps:**\n",
       "    - Check currency service pod status and logs.\n",
       "    - Verify the `currency_conversion.json` file exists and is valid JSON.\n",
       "\n",
       "### PaymentService\n",
       "\n",
       "- **Issue:** Payment"
      ],
      "text/plain": [
       "<IPython.core.display.Markdown object>"
      ]
     },
     "execution_count": 15,
     "metadata": {},
     "output_type": "execute_result"
    },
    {
     "data": {
      "text/markdown": [
       " processing failing.\n",
       "  - **Possible Causes:** Payment service not running, invalid credit card information.\n",
       "  - **Troubleshooting Steps:**\n",
       "    - Check payment service pod status and logs.\n",
       "    - Verify the credit card information being submitted is valid (according to the `simple-card-validator` rules).\n",
       "\n"
      ],
      "text/plain": [
       "<IPython.core.display.Markdown object>"
      ]
     },
     "execution_count": 15,
     "metadata": {},
     "output_type": "execute_result"
    },
    {
     "data": {
      "text/markdown": [
       "### ShippingService\n",
       "\n",
       "- **Issue:** Unable to get shipping quotes.\n",
       "  - **Possible Causes:** Shipping service not running, incorrect service address in checkout service configuration.\n",
       "  - **Troubleshooting Steps:**\n",
       "    - Check shipping service pod status and logs.\n",
       "    - Verify `SHIPPING_SERVICE_ADDR` environment"
      ],
      "text/plain": [
       "<IPython.core.display.Markdown object>"
      ]
     },
     "execution_count": 15,
     "metadata": {},
     "output_type": "execute_result"
    },
    {
     "data": {
      "text/markdown": [
       " variable in the checkout service deployment.\n",
       "\n",
       "### EmailService\n",
       "\n",
       "- **Issue:** Order confirmation emails not being sent.\n",
       "  - **Possible Causes:** Email service not running, email configuration issues.\n",
       "  - **Troubleshooting Steps:**\n",
       "    - Check email service pod status and logs.\n",
       "    - Verify email provider credentials"
      ],
      "text/plain": [
       "<IPython.core.display.Markdown object>"
      ]
     },
     "execution_count": 15,
     "metadata": {},
     "output_type": "execute_result"
    },
    {
     "data": {
      "text/markdown": [
       " and settings.\n",
       "\n",
       "### CheckoutService\n",
       "\n",
       "- **Issue:** Unable to place orders.\n",
       "  - **Possible Causes:** Checkout service not running, issues communicating with other services (cart, shipping, payment, email).\n",
       "  - **Troubleshooting Steps:**\n",
       "    - Check checkout service pod status and logs.\n",
       "    -"
      ],
      "text/plain": [
       "<IPython.core.display.Markdown object>"
      ]
     },
     "execution_count": 15,
     "metadata": {},
     "output_type": "execute_result"
    },
    {
     "data": {
      "text/markdown": [
       " Verify service addresses for dependent services in the checkout service configuration.\n",
       "\n",
       "### RecommendationService\n",
       "\n",
       "- **Issue:** Recommendations not appearing.\n",
       "  - **Possible Causes:** Recommendation service not running, incorrect service address in frontend configuration.\n",
       "  - **Troubleshooting Steps:**\n",
       "    - Check recommendation service pod status and logs.\n",
       "    "
      ],
      "text/plain": [
       "<IPython.core.display.Markdown object>"
      ]
     },
     "execution_count": 15,
     "metadata": {},
     "output_type": "execute_result"
    },
    {
     "data": {
      "text/markdown": [
       "- Verify `RECOMMENDATION_SERVICE_ADDR` environment variable in the frontend deployment.\n",
       "\n",
       "### AdService\n",
       "\n",
       "- **Issue:** Ads not appearing.\n",
       "  - **Possible Causes:** Ad service not running, incorrect service address in frontend configuration.\n",
       "  - **Troubleshooting Steps:**\n",
       "    - Check ad service pod status"
      ],
      "text/plain": [
       "<IPython.core.display.Markdown object>"
      ]
     },
     "execution_count": 15,
     "metadata": {},
     "output_type": "execute_result"
    },
    {
     "data": {
      "text/markdown": [
       " and logs.\n",
       "    - Verify `AD_SERVICE_ADDR` environment variable in the frontend deployment.\n",
       "\n",
       "## Troubleshooting Tools\n",
       "\n",
       "### kubectl\n",
       "\n",
       "- `kubectl get pods`: List all pods and their status.\n",
       "- `kubectl describe pod <pod-name>`: Get detailed information about a pod, including events"
      ],
      "text/plain": [
       "<IPython.core.display.Markdown object>"
      ]
     },
     "execution_count": 15,
     "metadata": {},
     "output_type": "execute_result"
    },
    {
     "data": {
      "text/markdown": [
       " and status conditions.\n",
       "- `kubectl logs <pod-name>`: View logs for a specific pod.\n",
       "- `kubectl exec -it <pod-name> bash`: Execute commands inside a pod.\n",
       "\n",
       "### skaffold\n",
       "\n",
       "- `skaffold dev`: Build and deploy your application continuously, watching for code changes"
      ],
      "text/plain": [
       "<IPython.core.display.Markdown object>"
      ]
     },
     "execution_count": 15,
     "metadata": {},
     "output_type": "execute_result"
    },
    {
     "data": {
      "text/markdown": [
       ".\n",
       "- `skaffold debug`: Debug your application running in Kubernetes.\n",
       "- `skaffold run`: Build, push, and deploy your application once.\n",
       "\n",
       "### Docker\n",
       "\n",
       "- `docker ps`: List running containers.\n",
       "- `docker logs <container-name>`: View logs for a specific container.\n"
      ],
      "text/plain": [
       "<IPython.core.display.Markdown object>"
      ]
     },
     "execution_count": 15,
     "metadata": {},
     "output_type": "execute_result"
    },
    {
     "data": {
      "text/markdown": [
       "- `docker exec -it <container-name> bash`: Execute commands inside a container.\n",
       "\n",
       "### Google Cloud Operations Suite\n",
       "\n",
       "- **Logging**: View and analyze logs from your Online Boutique services.\n",
       "- **Monitoring**: Monitor metrics and set up alerts for your Online Boutique services.\n",
       "- **Tracing**: Trace requests"
      ],
      "text/plain": [
       "<IPython.core.display.Markdown object>"
      ]
     },
     "execution_count": 15,
     "metadata": {},
     "output_type": "execute_result"
    },
    {
     "data": {
      "text/markdown": [
       " across your Online Boutique microservices.\n",
       "- **Profiler**: Identify performance bottlenecks in your Online Boutique services.\n",
       "\n",
       "This guide provides a starting point for troubleshooting Online Boutique. If you encounter issues not covered here, refer to the official documentation for the respective services and tools.\n",
       "```"
      ],
      "text/plain": [
       "<IPython.core.display.Markdown object>"
      ]
     },
     "execution_count": 15,
     "metadata": {},
     "output_type": "execute_result"
    },
    {
     "data": {
      "text/markdown": [],
      "text/plain": [
       "<IPython.core.display.Markdown object>"
      ]
     },
     "execution_count": 15,
     "metadata": {},
     "output_type": "execute_result"
    }
   ],
   "source": [
    "question = \"\"\"\n",
    "    Provide a troubleshooting guide to help resolve common issues.\n",
    "\"\"\"\n",
    "\n",
    "prompt = get_code_prompt(question)\n",
    "contents = [prompt]\n",
    "\n",
    "responses = model.generate_content(contents, stream=True)\n",
    "for response in responses:\n",
    "    IPython.display.Markdown(response.text)"
   ]
  },
  {
   "cell_type": "markdown",
   "metadata": {
    "id": "h23z0sTsj5pL"
   },
   "source": [
    "### 7. Making the app more reliable\n",
    "\n",
    "Recommend best practices to make the application more reliable.\n"
   ]
  },
  {
   "cell_type": "code",
   "execution_count": 16,
   "metadata": {
    "id": "yOBSulTPLUAo"
   },
   "outputs": [
    {
     "data": {
      "text/markdown": [
       "```"
      ],
      "text/plain": [
       "<IPython.core.display.Markdown object>"
      ]
     },
     "execution_count": 16,
     "metadata": {},
     "output_type": "execute_result"
    },
    {
     "data": {
      "text/markdown": [
       "python\n",
       "import os\n",
       "import random\n",
       "import time\n",
       "import traceback\n",
       "from concurrent"
      ],
      "text/plain": [
       "<IPython.core.display.Markdown object>"
      ]
     },
     "execution_count": 16,
     "metadata": {},
     "output_type": "execute_result"
    },
    {
     "data": {
      "text/markdown": [
       " import futures\n",
       "\n",
       "import googlecloudprofiler\n",
       "from google.auth.exceptions import Default"
      ],
      "text/plain": [
       "<IPython.core.display.Markdown object>"
      ]
     },
     "execution_count": 16,
     "metadata": {},
     "output_type": "execute_result"
    },
    {
     "data": {
      "text/markdown": [
       "CredentialsError\n",
       "import grpc\n",
       "\n",
       "import demo_pb2\n",
       "import demo_pb2_grpc\n",
       "from grpc_health.v1 import health_pb2"
      ],
      "text/plain": [
       "<IPython.core.display.Markdown object>"
      ]
     },
     "execution_count": 16,
     "metadata": {},
     "output_type": "execute_result"
    },
    {
     "data": {
      "text/markdown": [
       "\n",
       "from grpc_health.v1 import health_pb2_grpc\n",
       "\n",
       "from opentelemetry import trace\n",
       "from opentelemetry.instrumentation"
      ],
      "text/plain": [
       "<IPython.core.display.Markdown object>"
      ]
     },
     "execution_count": 16,
     "metadata": {},
     "output_type": "execute_result"
    },
    {
     "data": {
      "text/markdown": [
       ".grpc import GrpcInstrumentorClient, GrpcInstrumentorServer\n",
       "from opentelemetry.sdk.trace import TracerProvider\n",
       "from opentelemetry.sdk.trace.export import BatchSpanProcessor\n",
       "from opentele"
      ],
      "text/plain": [
       "<IPython.core.display.Markdown object>"
      ]
     },
     "execution_count": 16,
     "metadata": {},
     "output_type": "execute_result"
    },
    {
     "data": {
      "text/markdown": [
       "metry.exporter.otlp.proto.grpc.trace_exporter import OTLPSpanExporter\n",
       "\n",
       "from logger import getJSONLogger\n",
       "logger = getJSONLogger('recommendationservice-server')\n",
       "\n",
       "def initStackdriverProfiling():\n"
      ],
      "text/plain": [
       "<IPython.core.display.Markdown object>"
      ]
     },
     "execution_count": 16,
     "metadata": {},
     "output_type": "execute_result"
    },
    {
     "data": {
      "text/markdown": [
       "  project_id = None\n",
       "  try:\n",
       "    project_id = os.environ[\"GCP_PROJECT_ID\"]\n",
       "  except KeyError:\n",
       "    # Environment variable not set\n",
       "    pass\n",
       "\n",
       "  for retry in range(1,4):\n",
       "    try:\n",
       "      if project_id:"
      ],
      "text/plain": [
       "<IPython.core.display.Markdown object>"
      ]
     },
     "execution_count": 16,
     "metadata": {},
     "output_type": "execute_result"
    },
    {
     "data": {
      "text/markdown": [
       "\n",
       "        googlecloudprofiler.start(service='recommendation_server', service_version='1.0.0', verbose=0, project_id=project_id)\n",
       "      else:\n",
       "        googlecloudprofiler.start(service='recommendation_server', service_version='1.0.0',"
      ],
      "text/plain": [
       "<IPython.core.display.Markdown object>"
      ]
     },
     "execution_count": 16,
     "metadata": {},
     "output_type": "execute_result"
    },
    {
     "data": {
      "text/markdown": [
       " verbose=0)\n",
       "      logger.info(\"Successfully started Stackdriver Profiler.\")\n",
       "      return\n",
       "    except (BaseException) as exc:\n",
       "      logger.info(\"Unable to start Stackdriver Profiler Python agent. \" + str(exc))\n",
       "      if (retry < 4):\n",
       "        logger"
      ],
      "text/plain": [
       "<IPython.core.display.Markdown object>"
      ]
     },
     "execution_count": 16,
     "metadata": {},
     "output_type": "execute_result"
    },
    {
     "data": {
      "text/markdown": [
       ".info(\"Sleeping %d seconds to retry Stackdriver Profiler agent initialization\"%(retry*10))\n",
       "        time.sleep (1)\n",
       "      else:\n",
       "        logger.warning(\"Could not initialize Stackdriver Profiler after retrying, giving up\")\n",
       "  return\n",
       "\n",
       "class RecommendationService(demo_pb"
      ],
      "text/plain": [
       "<IPython.core.display.Markdown object>"
      ]
     },
     "execution_count": 16,
     "metadata": {},
     "output_type": "execute_result"
    },
    {
     "data": {
      "text/markdown": [
       "2_grpc.RecommendationServiceServicer):\n",
       "    def ListRecommendations(self, request, context):\n",
       "        max_responses = 5\n",
       "        # fetch list of products from product catalog stub\n",
       "        cat_response = product_catalog_stub.ListProducts(demo_pb2.Empty())\n",
       "        "
      ],
      "text/plain": [
       "<IPython.core.display.Markdown object>"
      ]
     },
     "execution_count": 16,
     "metadata": {},
     "output_type": "execute_result"
    },
    {
     "data": {
      "text/markdown": [
       "product_ids = [x.id for x in cat_response.products]\n",
       "        filtered_products = list(set(product_ids)-set(request.product_ids))\n",
       "        num_products = len(filtered_products)\n",
       "        num_return = min(max_responses, num"
      ],
      "text/plain": [
       "<IPython.core.display.Markdown object>"
      ]
     },
     "execution_count": 16,
     "metadata": {},
     "output_type": "execute_result"
    },
    {
     "data": {
      "text/markdown": [
       "_products)\n",
       "        # sample list of indicies to return\n",
       "        indices = random.sample(range(num_products), num_return)\n",
       "        # fetch product ids from indices\n",
       "        prod_list = [filtered_products[i] for i in indices]\n",
       "        logger.info(\"[Recv"
      ],
      "text/plain": [
       "<IPython.core.display.Markdown object>"
      ]
     },
     "execution_count": 16,
     "metadata": {},
     "output_type": "execute_result"
    },
    {
     "data": {
      "text/markdown": [
       " ListRecommendations] product_ids={}\".format(prod_list))\n",
       "        # build and return response\n",
       "        response = demo_pb2.ListRecommendationsResponse()\n",
       "        response.product_ids.extend(prod_list)\n",
       "        return response\n",
       "\n",
       "    def Check(self, request, context):\n"
      ],
      "text/plain": [
       "<IPython.core.display.Markdown object>"
      ]
     },
     "execution_count": 16,
     "metadata": {},
     "output_type": "execute_result"
    },
    {
     "data": {
      "text/markdown": [
       "        return health_pb2.HealthCheckResponse(\n",
       "            status=health_pb2.HealthCheckResponse.SERVING)\n",
       "\n",
       "    def Watch(self, request, context):\n",
       "        return health_pb2.HealthCheckResponse(\n",
       "            status=health_pb2.HealthCheckResponse.UN"
      ],
      "text/plain": [
       "<IPython.core.display.Markdown object>"
      ]
     },
     "execution_count": 16,
     "metadata": {},
     "output_type": "execute_result"
    },
    {
     "data": {
      "text/markdown": [
       "IMPLEMENTED)\n",
       "\n",
       "\n",
       "if __name__ == \"__main__\":\n",
       "    logger.info(\"initializing recommendationservice\")\n",
       "\n",
       "    try:\n",
       "      if \"DISABLE_PROFILER\" in os.environ:\n",
       "        raise KeyError()\n",
       "      else:\n",
       "        logger.info(\"Profiler enabled.\")\n",
       "        initStack"
      ],
      "text/plain": [
       "<IPython.core.display.Markdown object>"
      ]
     },
     "execution_count": 16,
     "metadata": {},
     "output_type": "execute_result"
    },
    {
     "data": {
      "text/markdown": [
       "driverProfiling()\n",
       "    except KeyError:\n",
       "        logger.info(\"Profiler disabled.\")\n",
       "\n",
       "    # Initialize OpenTelemetry tracing and connect to Jaeger\n",
       "    try:\n",
       "      grpc_client_instrumentor = GrpcInstrumentorClient()\n",
       "      grpc_client_instrumentor.instrument()\n",
       "      grpc_server"
      ],
      "text/plain": [
       "<IPython.core.display.Markdown object>"
      ]
     },
     "execution_count": 16,
     "metadata": {},
     "output_type": "execute_result"
    },
    {
     "data": {
      "text/markdown": [
       "_instrumentor = GrpcInstrumentorServer()\n",
       "      grpc_server_instrumentor.instrument()\n",
       "      if os.environ[\"ENABLE_TRACING\"] == \"1\":\n",
       "        trace.set_tracer_provider(TracerProvider())\n",
       "        otel_endpoint = os.getenv(\"COLLECTOR_SERVICE"
      ],
      "text/plain": [
       "<IPython.core.display.Markdown object>"
      ]
     },
     "execution_count": 16,
     "metadata": {},
     "output_type": "execute_result"
    },
    {
     "data": {
      "text/markdown": [
       "_ADDR\", \"localhost:4317\")\n",
       "        trace.get_tracer_provider().add_span_processor(\n",
       "          BatchSpanProcessor(\n",
       "              OTLPSpanExporter(\n",
       "              endpoint = otel_endpoint,\n",
       "              insecure = True\n",
       "            )\n",
       "          )\n",
       "        )\n"
      ],
      "text/plain": [
       "<IPython.core.display.Markdown object>"
      ]
     },
     "execution_count": 16,
     "metadata": {},
     "output_type": "execute_result"
    },
    {
     "data": {
      "text/markdown": [
       "        logger.info(\"Tracing enabled.\")\n",
       "    except (KeyError, DefaultCredentialsError):\n",
       "        logger.info(\"Tracing disabled.\")\n",
       "    except Exception as e:\n",
       "        logger.warn(f\"Exception on Cloud Trace setup: {traceback.format_exc()}, tracing disabled.\") \n",
       "\n",
       "    port ="
      ],
      "text/plain": [
       "<IPython.core.display.Markdown object>"
      ]
     },
     "execution_count": 16,
     "metadata": {},
     "output_type": "execute_result"
    },
    {
     "data": {
      "text/markdown": [
       " os.environ.get('PORT', \"8080\")\n",
       "    catalog_addr = os.environ.get('PRODUCT_CATALOG_SERVICE_ADDR', '')\n",
       "    if catalog_addr == \"\":\n",
       "        raise Exception('PRODUCT_CATALOG_SERVICE_ADDR environment variable not set')\n",
       "    logger."
      ],
      "text/plain": [
       "<IPython.core.display.Markdown object>"
      ]
     },
     "execution_count": 16,
     "metadata": {},
     "output_type": "execute_result"
    },
    {
     "data": {
      "text/markdown": [
       "info(\"product catalog address: \" + catalog_addr)\n",
       "    with grpc.insecure_channel(catalog_addr) as channel:\n",
       "      product_catalog_stub = demo_pb2_grpc.ProductCatalogServiceStub(channel)\n",
       "      # create gRPC server\n",
       "      server = grpc."
      ],
      "text/plain": [
       "<IPython.core.display.Markdown object>"
      ]
     },
     "execution_count": 16,
     "metadata": {},
     "output_type": "execute_result"
    },
    {
     "data": {
      "text/markdown": [
       "server(futures.ThreadPoolExecutor(max_workers=10))\n",
       "\n",
       "      # add class to gRPC server\n",
       "      service = RecommendationService()\n",
       "      demo_pb2_grpc.add_RecommendationServiceServicer_to_server(service, server)\n",
       "      health_pb2_grpc.add"
      ],
      "text/plain": [
       "<IPython.core.display.Markdown object>"
      ]
     },
     "execution_count": 16,
     "metadata": {},
     "output_type": "execute_result"
    },
    {
     "data": {
      "text/markdown": [
       "_HealthServicer_to_server(service, server)\n",
       "\n",
       "      # start server\n",
       "      logger.info(\"listening on port: \" + port)\n",
       "      server.add_insecure_port('[::]:'+port)\n",
       "      server.start()\n",
       "\n",
       "      # keep alive\n",
       "      try:\n"
      ],
      "text/plain": [
       "<IPython.core.display.Markdown object>"
      ]
     },
     "execution_count": 16,
     "metadata": {},
     "output_type": "execute_result"
    },
    {
     "data": {
      "text/markdown": [
       "          while True:\n",
       "              time.sleep(10000)\n",
       "      except KeyboardInterrupt:\n",
       "              server.stop(0)\n",
       "```"
      ],
      "text/plain": [
       "<IPython.core.display.Markdown object>"
      ]
     },
     "execution_count": 16,
     "metadata": {},
     "output_type": "execute_result"
    },
    {
     "data": {
      "text/markdown": [],
      "text/plain": [
       "<IPython.core.display.Markdown object>"
      ]
     },
     "execution_count": 16,
     "metadata": {},
     "output_type": "execute_result"
    }
   ],
   "source": [
    "question = \"\"\"\n",
    "  How can I make this application more reliable? Consider best practices from https://www.r9y.dev/\n",
    "\"\"\"\n",
    "\n",
    "prompt = get_code_prompt(question)\n",
    "contents = [prompt]\n",
    "\n",
    "responses = model.generate_content(contents, stream=True)\n",
    "for response in responses:\n",
    "    IPython.display.Markdown(response.text)"
   ]
  },
  {
   "cell_type": "markdown",
   "metadata": {
    "id": "uf1jNDpJj8u0"
   },
   "source": [
    "### 8. Making the app more secure\n",
    "\n",
    "Recommend best practices to make the application more secure."
   ]
  },
  {
   "cell_type": "code",
   "execution_count": 18,
   "metadata": {
    "id": "Hy_mCyFVLlXU"
   },
   "outputs": [
    {
     "data": {
      "text/markdown": [
       "This"
      ],
      "text/plain": [
       "<IPython.core.display.Markdown object>"
      ]
     },
     "execution_count": 18,
     "metadata": {},
     "output_type": "execute_result"
    },
    {
     "data": {
      "text/markdown": [
       " application is a demo application and includes a number of insecure defaults for ease of deployment"
      ],
      "text/plain": [
       "<IPython.core.display.Markdown object>"
      ]
     },
     "execution_count": 18,
     "metadata": {},
     "output_type": "execute_result"
    },
    {
     "data": {
      "text/markdown": [
       ".  Production deployments should consider the following:\n",
       "\n",
       "* **Enable Authentication and Authorization"
      ],
      "text/plain": [
       "<IPython.core.display.Markdown object>"
      ]
     },
     "execution_count": 18,
     "metadata": {},
     "output_type": "execute_result"
    },
    {
     "data": {
      "text/markdown": [
       "** The current application does not require any authentication or authorization.  Consider adding user authentication and role-based access control (RBAC) to protect sensitive data and"
      ],
      "text/plain": [
       "<IPython.core.display.Markdown object>"
      ]
     },
     "execution_count": 18,
     "metadata": {},
     "output_type": "execute_result"
    },
    {
     "data": {
      "text/markdown": [
       " operations.  \n",
       "* **HTTPS/TLS**: The application is currently served over HTTP. Enable HTTPS for all services and use TLS certificates to encrypt data in transit"
      ],
      "text/plain": [
       "<IPython.core.display.Markdown object>"
      ]
     },
     "execution_count": 18,
     "metadata": {},
     "output_type": "execute_result"
    },
    {
     "data": {
      "text/markdown": [
       ".\n",
       "* **Secure Sensitive Data:** The application uses hardcoded credentials and API keys.  Store sensitive data, like API keys and database passwords, in a secure location like [Secret Manager](https://cloud.google.com/secret"
      ],
      "text/plain": [
       "<IPython.core.display.Markdown object>"
      ]
     },
     "execution_count": 18,
     "metadata": {},
     "output_type": "execute_result"
    },
    {
     "data": {
      "text/markdown": [
       "-manager) or [Hashicorp Vault](https://www.vaultproject.io/).\n",
       "* **Enable Secure Defaults**: Configure more secure defaults for Kubernetes deployments, including:\n",
       "    * **Resource Limits**: Set resource requests and limits"
      ],
      "text/plain": [
       "<IPython.core.display.Markdown object>"
      ]
     },
     "execution_count": 18,
     "metadata": {},
     "output_type": "execute_result"
    },
    {
     "data": {
      "text/markdown": [
       " for all containers to prevent resource starvation attacks.\n",
       "    * **Pod Security Policies**: Use [Pod Security Standards](https://kubernetes.io/docs/concepts/security/pod-security-standards/) to enforce container and pod level security policies.  This can help restrict access to host resources, prevent privilege escalation,"
      ],
      "text/plain": [
       "<IPython.core.display.Markdown object>"
      ]
     },
     "execution_count": 18,
     "metadata": {},
     "output_type": "execute_result"
    },
    {
     "data": {
      "text/markdown": [
       " and enforce container immutability.\n",
       "    * **Network Policies**: Use network policies to restrict traffic flow between services. This can help prevent unauthorized access to sensitive services. \n",
       "* **Regular Security Scans:** Use vulnerability scanners to check for vulnerabilities in container images and dependencies.\n",
       "* **Defense in Depth:** Use a"
      ],
      "text/plain": [
       "<IPython.core.display.Markdown object>"
      ]
     },
     "execution_count": 18,
     "metadata": {},
     "output_type": "execute_result"
    },
    {
     "data": {
      "text/markdown": [
       " combination of security measures to protect your application. This includes using firewalls, intrusion detection systems, and security logging and monitoring.\n",
       "\n"
      ],
      "text/plain": [
       "<IPython.core.display.Markdown object>"
      ]
     },
     "execution_count": 18,
     "metadata": {},
     "output_type": "execute_result"
    },
    {
     "data": {
      "text/markdown": [],
      "text/plain": [
       "<IPython.core.display.Markdown object>"
      ]
     },
     "execution_count": 18,
     "metadata": {},
     "output_type": "execute_result"
    }
   ],
   "source": [
    "question = \"\"\"\n",
    "  How can you secure the application?\n",
    "\"\"\"\n",
    "\n",
    "prompt = get_code_prompt(question)\n",
    "contents = [prompt]\n",
    "\n",
    "responses = model.generate_content(contents, stream=True)\n",
    "for response in responses:\n",
    "    IPython.display.Markdown(response.text)"
   ]
  },
  {
   "cell_type": "markdown",
   "metadata": {
    "id": "GFfwMOb6kYfw"
   },
   "source": [
    "### 9. Learning the codebase\n",
    "\n",
    "Create a quiz about the concepts used in the codebase."
   ]
  },
  {
   "cell_type": "code",
   "execution_count": 19,
   "metadata": {
    "id": "l7jQIUwsNRH4"
   },
   "outputs": [
    {
     "data": {
      "text/markdown": [
       "```"
      ],
      "text/plain": [
       "<IPython.core.display.Markdown object>"
      ]
     },
     "execution_count": 19,
     "metadata": {},
     "output_type": "execute_result"
    },
    {
     "data": {
      "text/markdown": [
       "python\n",
       "import random\n",
       "\n",
       "questions = [\n",
       "    {\n",
       "        \"question\":"
      ],
      "text/plain": [
       "<IPython.core.display.Markdown object>"
      ]
     },
     "execution_count": 19,
     "metadata": {},
     "output_type": "execute_result"
    },
    {
     "data": {
      "text/markdown": [
       " \"What is the purpose of the `skaffold.yaml` file?\",\n"
      ],
      "text/plain": [
       "<IPython.core.display.Markdown object>"
      ]
     },
     "execution_count": 19,
     "metadata": {},
     "output_type": "execute_result"
    },
    {
     "data": {
      "text/markdown": [
       "        \"options\": [\n",
       "            \"To define the infrastructure for deploying the application.\",\n",
       "            \"To define the build and deployment process for the application.\",\n"
      ],
      "text/plain": [
       "<IPython.core.display.Markdown object>"
      ]
     },
     "execution_count": 19,
     "metadata": {},
     "output_type": "execute_result"
    },
    {
     "data": {
      "text/markdown": [
       "            \"To define the unit tests for the application.\",\n",
       "            \"To define the network policies for the application.\"\n",
       "        ],\n",
       "        \"answer\": \""
      ],
      "text/plain": [
       "<IPython.core.display.Markdown object>"
      ]
     },
     "execution_count": 19,
     "metadata": {},
     "output_type": "execute_result"
    },
    {
     "data": {
      "text/markdown": [
       "To define the build and deployment process for the application.\"\n",
       "    },\n",
       "    {\n",
       "        \"question\": \"Which database is used by default for storing shopping cart data?\",\n",
       "        \"options\": [\n",
       "            \"Redis\",\n",
       "            "
      ],
      "text/plain": [
       "<IPython.core.display.Markdown object>"
      ]
     },
     "execution_count": 19,
     "metadata": {},
     "output_type": "execute_result"
    },
    {
     "data": {
      "text/markdown": [
       "\"Spanner\",\n",
       "            \"MySQL\",\n",
       "            \"PostgreSQL\"\n",
       "        ],\n",
       "        \"answer\": \"Redis\"\n",
       "    },\n",
       "    {\n",
       "        \"question\": \"What is the purpose of the `loadgenerator`"
      ],
      "text/plain": [
       "<IPython.core.display.Markdown object>"
      ]
     },
     "execution_count": 19,
     "metadata": {},
     "output_type": "execute_result"
    },
    {
     "data": {
      "text/markdown": [
       " service?\",\n",
       "        \"options\": [\n",
       "            \"To generate load on the frontend service and simulate user traffic.\",\n",
       "            \"To generate product recommendations for users.\",\n",
       "            \"To process payments for orders.\",\n",
       "            \"To send email notifications to users.\"\n",
       "        ],\n",
       "        \"answer\": \"To generate load"
      ],
      "text/plain": [
       "<IPython.core.display.Markdown object>"
      ]
     },
     "execution_count": 19,
     "metadata": {},
     "output_type": "execute_result"
    },
    {
     "data": {
      "text/markdown": [
       " on the frontend service and simulate user traffic.\"\n",
       "    },\n",
       "    {\n",
       "        \"question\": \"What protocol is used for communication between the microservices?\",\n",
       "        \"options\": [\n",
       "            \"REST\",\n",
       "            \"HTTP\",\n",
       "            \"gRPC\",\n",
       "            \"SOAP\"\n",
       "        ],\n",
       "        "
      ],
      "text/plain": [
       "<IPython.core.display.Markdown object>"
      ]
     },
     "execution_count": 19,
     "metadata": {},
     "output_type": "execute_result"
    },
    {
     "data": {
      "text/markdown": [
       "\"answer\": \"gRPC\"\n",
       "    },\n",
       "    {\n",
       "        \"question\": \"What language is the `frontend` service written in?\",\n",
       "        \"options\": [\n",
       "            \"Python\",\n",
       "            \"Java\",\n",
       "            \"Go\",\n",
       "            \"Node.js\"\n",
       "        ],\n",
       "        \""
      ],
      "text/plain": [
       "<IPython.core.display.Markdown object>"
      ]
     },
     "execution_count": 19,
     "metadata": {},
     "output_type": "execute_result"
    },
    {
     "data": {
      "text/markdown": [
       "answer\": \"Go\"\n",
       "    },\n",
       "    {\n",
       "        \"question\": \"What is the purpose of the `CYMBAL_BRANDING` environment variable?\",\n",
       "        \"options\": [\n",
       "            \"To enable tracing for the application.\",\n",
       "            \"To change the application's branding to 'Cymbal"
      ],
      "text/plain": [
       "<IPython.core.display.Markdown object>"
      ]
     },
     "execution_count": 19,
     "metadata": {},
     "output_type": "execute_result"
    },
    {
     "data": {
      "text/markdown": [
       " Shops'.\",\n",
       "            \"To enable profiling for the application.\",\n",
       "            \"To enable network policies for the application.\"\n",
       "        ],\n",
       "        \"answer\": \"To change the application's branding to 'Cymbal Shops'.\"\n",
       "    },\n",
       "    {\n",
       "        \"question\": \"What tool is used for local"
      ],
      "text/plain": [
       "<IPython.core.display.Markdown object>"
      ]
     },
     "execution_count": 19,
     "metadata": {},
     "output_type": "execute_result"
    },
    {
     "data": {
      "text/markdown": [
       " development and deployment in the `kubernetes-manifests` directory?\",\n",
       "        \"options\": [\n",
       "            \"Docker\",\n",
       "            \"kubectl\",\n",
       "            \"skaffold\",\n",
       "            \"Helm\"\n",
       "        ],\n",
       "        \"answer\": \"skaffold\"\n",
       "    },\n",
       "    {\n",
       "        \"question\": \""
      ],
      "text/plain": [
       "<IPython.core.display.Markdown object>"
      ]
     },
     "execution_count": 19,
     "metadata": {},
     "output_type": "execute_result"
    },
    {
     "data": {
      "text/markdown": [
       "How can you add a custom image tag suffix to the container images?\",\n",
       "        \"options\": [\n",
       "            \"By modifying the `skaffold.yaml` file.\",\n",
       "            \"By using the `kustomize/components/container-images-tag-suffix` component.\",\n",
       "            \"By setting the `"
      ],
      "text/plain": [
       "<IPython.core.display.Markdown object>"
      ]
     },
     "execution_count": 19,
     "metadata": {},
     "output_type": "execute_result"
    },
    {
     "data": {
      "text/markdown": [
       "IMAGE_TAG_SUFFIX` environment variable.\",\n",
       "            \"By modifying the `Dockerfile` for each service.\"\n",
       "        ],\n",
       "        \"answer\": \"By using the `kustomize/components/container-images-tag-suffix` component.\"\n",
       "    },\n",
       "    {\n",
       "        \"question\": \""
      ],
      "text/plain": [
       "<IPython.core.display.Markdown object>"
      ]
     },
     "execution_count": 19,
     "metadata": {},
     "output_type": "execute_result"
    },
    {
     "data": {
      "text/markdown": [
       "What is the purpose of the `.github/workflows` directory?\",\n",
       "        \"options\": [\n",
       "            \"To store the application's source code.\",\n",
       "            \"To define the continuous integration and deployment (CI/CD) pipelines.\",\n",
       "            \"To store the application's Docker images.\",\n",
       "            \""
      ],
      "text/plain": [
       "<IPython.core.display.Markdown object>"
      ]
     },
     "execution_count": 19,
     "metadata": {},
     "output_type": "execute_result"
    },
    {
     "data": {
      "text/markdown": [
       "To define the application's network policies.\"\n",
       "        ],\n",
       "        \"answer\": \"To define the continuous integration and deployment (CI/CD) pipelines.\"\n",
       "    },\n",
       "    {\n",
       "        \"question\": \"What is the purpose of the `EXTRA_LATENCY` environment variable in the `productcatalogservice"
      ],
      "text/plain": [
       "<IPython.core.display.Markdown object>"
      ]
     },
     "execution_count": 19,
     "metadata": {},
     "output_type": "execute_result"
    },
    {
     "data": {
      "text/markdown": [
       "`?\",\n",
       "        \"options\": [\n",
       "            \"To enable tracing for the service.\",\n",
       "            \"To simulate network latency for the service.\",\n",
       "            \"To enable profiling for the service.\",\n",
       "            \"To configure the service's database connection.\"\n",
       "        ],\n",
       "        \"answer\": \"To simulate network latency"
      ],
      "text/plain": [
       "<IPython.core.display.Markdown object>"
      ]
     },
     "execution_count": 19,
     "metadata": {},
     "output_type": "execute_result"
    },
    {
     "data": {
      "text/markdown": [
       " for the service.\"\n",
       "    }\n",
       "]\n",
       "\n",
       "random.shuffle(questions)\n",
       "\n",
       "score = 0\n",
       "for i, q in enumerate(questions):\n",
       "    print(f\"{i+1}. {q['question']}\")\n",
       "    for j, o in enumerate(q['options']):\n",
       "        print("
      ],
      "text/plain": [
       "<IPython.core.display.Markdown object>"
      ]
     },
     "execution_count": 19,
     "metadata": {},
     "output_type": "execute_result"
    },
    {
     "data": {
      "text/markdown": [
       "f\"    {j+1}. {o}\")\n",
       "    \n",
       "    while True:\n",
       "        try:\n",
       "            user_answer = int(input(\"Your answer (1-4): \"))\n",
       "            if user_answer < 1 or user_answer > 4:\n",
       "                raise ValueError\n",
       "            break"
      ],
      "text/plain": [
       "<IPython.core.display.Markdown object>"
      ]
     },
     "execution_count": 19,
     "metadata": {},
     "output_type": "execute_result"
    },
    {
     "data": {
      "text/markdown": [
       "\n",
       "        except ValueError:\n",
       "            print(\"Invalid input. Please enter a number between 1 and 4.\")\n",
       "    \n",
       "    if q['options'][user_answer-1] == q['answer']:\n",
       "        print(\"Correct!\")\n",
       "        score += 1\n",
       "    else:\n",
       "        print(f"
      ],
      "text/plain": [
       "<IPython.core.display.Markdown object>"
      ]
     },
     "execution_count": 19,
     "metadata": {},
     "output_type": "execute_result"
    },
    {
     "data": {
      "text/markdown": [
       "\"Incorrect. The answer is: {q['answer']}\")\n",
       "\n",
       "print(f\"\\nYour final score: {score}/{len(questions)}\")\n",
       "```\n",
       "\n",
       "This quiz covers several key aspects of your provided codebase:\n",
       "\n",
       "* **Build and Deployment:** Questions about `skaffold.yaml`, `kustom"
      ],
      "text/plain": [
       "<IPython.core.display.Markdown object>"
      ]
     },
     "execution_count": 19,
     "metadata": {},
     "output_type": "execute_result"
    },
    {
     "data": {
      "text/markdown": [
       "ize` components, and `.github/workflows` probe the user's understanding of how the application is built, configured, and deployed.\n",
       "* **Microservice Architecture:** Questions about inter-service communication protocols (gRPC) and the role of specific services (e.g., `loadgenerator`, `frontend"
      ],
      "text/plain": [
       "<IPython.core.display.Markdown object>"
      ]
     },
     "execution_count": 19,
     "metadata": {},
     "output_type": "execute_result"
    },
    {
     "data": {
      "text/markdown": [
       "`) test comprehension of the overall system design.\n",
       "* **Environment and Configuration:**  Questions related to environment variables like `CYMBAL_BRANDING`, `EXTRA_LATENCY`, and database choices highlight how the application's behavior can be customized. \n",
       "* **Technology Choices:** The quiz assesses knowledge of languages"
      ],
      "text/plain": [
       "<IPython.core.display.Markdown object>"
      ]
     },
     "execution_count": 19,
     "metadata": {},
     "output_type": "execute_result"
    },
    {
     "data": {
      "text/markdown": [
       " used (Go, Node.js) and databases (Redis, Spanner).\n",
       "\n",
       "By taking this quiz, you'll be able to reinforce your knowledge of these fundamental concepts within your codebase.  \n"
      ],
      "text/plain": [
       "<IPython.core.display.Markdown object>"
      ]
     },
     "execution_count": 19,
     "metadata": {},
     "output_type": "execute_result"
    },
    {
     "data": {
      "text/markdown": [],
      "text/plain": [
       "<IPython.core.display.Markdown object>"
      ]
     },
     "execution_count": 19,
     "metadata": {},
     "output_type": "execute_result"
    }
   ],
   "source": [
    "question = \"\"\"\n",
    "  Create a quiz about the concepts used in my codebase to help me solidify my understanding.\n",
    "\"\"\"\n",
    "\n",
    "prompt = get_code_prompt(question)\n",
    "contents = [prompt]\n",
    "\n",
    "responses = model.generate_content(contents, stream=True)\n",
    "for response in responses:\n",
    "    IPython.display.Markdown(response.text)"
   ]
  },
  {
   "cell_type": "markdown",
   "metadata": {
    "id": "Rjo1UrZwGLan"
   },
   "source": [
    "### 10. Creating a quickstart tutorial\n",
    "\n",
    "Create an end-to-end quickstart tutorial for a specific component.\n"
   ]
  },
  {
   "cell_type": "code",
   "execution_count": 20,
   "metadata": {
    "id": "FRwmRyDDFRMB"
   },
   "outputs": [
    {
     "data": {
      "text/markdown": [
       "```"
      ],
      "text/plain": [
       "<IPython.core.display.Markdown object>"
      ]
     },
     "execution_count": 20,
     "metadata": {},
     "output_type": "execute_result"
    },
    {
     "data": {
      "text/markdown": [
       "\n",
       "## Online Boutique - Quickstart with AlloyDB\n",
       "\n",
       "This quickstart guide outlines"
      ],
      "text/plain": [
       "<IPython.core.display.Markdown object>"
      ]
     },
     "execution_count": 20,
     "metadata": {},
     "output_type": "execute_result"
    },
    {
     "data": {
      "text/markdown": [
       " how to configure the Online Boutique application's CartService to utilize AlloyDB as"
      ],
      "text/plain": [
       "<IPython.core.display.Markdown object>"
      ]
     },
     "execution_count": 20,
     "metadata": {},
     "output_type": "execute_result"
    },
    {
     "data": {
      "text/markdown": [
       " its persistent data store. It highlights AlloyDB's key capabilities and advantages in this specific context.\n",
       "\n",
       "### What is AlloyDB?\n",
       "\n",
       "AlloyDB is a"
      ],
      "text/plain": [
       "<IPython.core.display.Markdown object>"
      ]
     },
     "execution_count": 20,
     "metadata": {},
     "output_type": "execute_result"
    },
    {
     "data": {
      "text/markdown": [
       " fully managed, PostgreSQL-compatible database service on Google Cloud. It is designed for high performance transactional workloads, offering superior performance, scalability, and availability compared to standard"
      ],
      "text/plain": [
       "<IPython.core.display.Markdown object>"
      ]
     },
     "execution_count": 20,
     "metadata": {},
     "output_type": "execute_result"
    },
    {
     "data": {
      "text/markdown": [
       " PostgreSQL.\n",
       "\n",
       "### Why AlloyDB for CartService?\n",
       "\n",
       "* **High Performance:** AlloyDB excels in handling high-volume transactional workloads, making it ideal for managing shopping cart data where speed and responsiveness are crucial.\n",
       "* **Scalability"
      ],
      "text/plain": [
       "<IPython.core.display.Markdown object>"
      ]
     },
     "execution_count": 20,
     "metadata": {},
     "output_type": "execute_result"
    },
    {
     "data": {
      "text/markdown": [
       ":** AlloyDB automatically scales to accommodate fluctuating demands, ensuring seamless performance during peak shopping periods.\n",
       "* **Availability:** AlloyDB provides high availability with automatic failover, guaranteeing data accessibility and service continuity for the CartService.\n",
       "* **Post"
      ],
      "text/plain": [
       "<IPython.core.display.Markdown object>"
      ]
     },
     "execution_count": 20,
     "metadata": {},
     "output_type": "execute_result"
    },
    {
     "data": {
      "text/markdown": [
       "greSQL Compatibility:** Its compatibility with PostgreSQL simplifies migration and integration with existing tools and frameworks.\n",
       "\n",
       "### Configuration Steps\n",
       "\n",
       "1. **Provision AlloyDB:**\n",
       "\n",
       "   * Follow the steps in [kustomize/components/alloydb/README.md](kustomize/components/alloydb/README.md) to"
      ],
      "text/plain": [
       "<IPython.core.display.Markdown object>"
      ]
     },
     "execution_count": 20,
     "metadata": {},
     "output_type": "execute_result"
    },
    {
     "data": {
      "text/markdown": [
       " provision an AlloyDB cluster, instance, database, and table. \n",
       "   * Note the `ALLOYDB_PRIMARY_IP`, `ALLOYDB_DATABASE_NAME`, and `ALLOYDB_TABLE_NAME` values for later configuration.\n",
       "\n",
       "2. **Grant Permissions:**\n",
       "\n",
       "   * As detailed"
      ],
      "text/plain": [
       "<IPython.core.display.Markdown object>"
      ]
     },
     "execution_count": 20,
     "metadata": {},
     "output_type": "execute_result"
    },
    {
     "data": {
      "text/markdown": [
       " in the AlloyDB README, create a service account for AlloyDB and grant it the necessary permissions. \n",
       "   * Enable Workload Identity on your GKE cluster.\n",
       "   * Configure the `cartservice` service account to use the AlloyDB service account for authentication.\n",
       "\n",
       "3. **Update CartService Configuration:**"
      ],
      "text/plain": [
       "<IPython.core.display.Markdown object>"
      ]
     },
     "execution_count": 20,
     "metadata": {},
     "output_type": "execute_result"
    },
    {
     "data": {
      "text/markdown": [
       "\n",
       "\n",
       "   * Modify the `cartservice` Deployment in `kustomize/components/alloydb/kustomization.yaml` to include the following environment variables:\n",
       "     * `ALLOYDB_PRIMARY_IP`: The IP address of your AlloyDB primary instance.\n",
       "     * `ALLOYDB_"
      ],
      "text/plain": [
       "<IPython.core.display.Markdown object>"
      ]
     },
     "execution_count": 20,
     "metadata": {},
     "output_type": "execute_result"
    },
    {
     "data": {
      "text/markdown": [
       "DATABASE_NAME`: The name of your AlloyDB database.\n",
       "     * `ALLOYDB_TABLE_NAME`: The name of your AlloyDB table for cart items.\n",
       "     * `ALLOYDB_SECRET_NAME`: The name of your AlloyDB secret containing the database password.\n",
       "\n",
       "4. **Deploy"
      ],
      "text/plain": [
       "<IPython.core.display.Markdown object>"
      ]
     },
     "execution_count": 20,
     "metadata": {},
     "output_type": "execute_result"
    },
    {
     "data": {
      "text/markdown": [
       " with Kustomize:**\n",
       "\n",
       "   * From the root of the repository, navigate to the `kustomize` directory.\n",
       "   * Add the `alloydb` component to your `kustomization.yaml`\n",
       "     ```yaml\n",
       "     apiVersion: kustomize.config.k8s.io/"
      ],
      "text/plain": [
       "<IPython.core.display.Markdown object>"
      ]
     },
     "execution_count": 20,
     "metadata": {},
     "output_type": "execute_result"
    },
    {
     "data": {
      "text/markdown": [
       "v1beta1\n",
       "     kind: Kustomization\n",
       "     resources:\n",
       "     - base\n",
       "     components:\n",
       "     - components/alloydb\n",
       "     ```\n",
       "   * Apply the configuration using:\n",
       "     ```bash\n",
       "     kubectl apply -k .\n",
       "     ```\n",
       "\n",
       "### Key Capabilities in Online Boutique\n",
       "\n",
       "*"
      ],
      "text/plain": [
       "<IPython.core.display.Markdown object>"
      ]
     },
     "execution_count": 20,
     "metadata": {},
     "output_type": "execute_result"
    },
    {
     "data": {
      "text/markdown": [
       " **Real-time Cart Updates:** AlloyDB's high-performance processing ensures that cart additions, removals, and updates are reflected immediately, providing a responsive and accurate shopping experience.\n",
       "* **Consistent View of Cart Data:**  AlloyDB's strong consistency guarantees that users always see the most up-to-date"
      ],
      "text/plain": [
       "<IPython.core.display.Markdown object>"
      ]
     },
     "execution_count": 20,
     "metadata": {},
     "output_type": "execute_result"
    },
    {
     "data": {
      "text/markdown": [
       " cart contents, regardless of concurrent access.\n",
       "* **Reliable Checkout Process:**  AlloyDB's robust transaction handling ensures that order placement and payment processing are reliable and atomic, minimizing errors and data inconsistencies.\n",
       "\n",
       "### Conclusion\n",
       "\n",
       "By following these steps, you successfully configured Online Boutique's CartService to use AlloyDB,"
      ],
      "text/plain": [
       "<IPython.core.display.Markdown object>"
      ]
     },
     "execution_count": 20,
     "metadata": {},
     "output_type": "execute_result"
    },
    {
     "data": {
      "text/markdown": [
       " leveraging its strengths for a high-performance and reliable e-commerce experience.\n",
       "```\n",
       "\n",
       "This tutorial offers a practical and easy-to-follow guide for integrating AlloyDB with the Online Boutique application, showcasing its advantages for improving the cart service's performance and reliability. \n"
      ],
      "text/plain": [
       "<IPython.core.display.Markdown object>"
      ]
     },
     "execution_count": 20,
     "metadata": {},
     "output_type": "execute_result"
    },
    {
     "data": {
      "text/markdown": [],
      "text/plain": [
       "<IPython.core.display.Markdown object>"
      ]
     },
     "execution_count": 20,
     "metadata": {},
     "output_type": "execute_result"
    }
   ],
   "source": [
    "question = \"\"\"\n",
    "  Please write an end-to-end quickstart tutorial that introduces AlloyDB,\n",
    "  shows how to configure it with the CartService,\n",
    "  and highlights key capabilities of AlloyDB in context of the Online Boutique application.\n",
    "\"\"\"\n",
    "\n",
    "prompt = get_code_prompt(question)\n",
    "contents = [prompt]\n",
    "\n",
    "responses = model.generate_content(contents, stream=True)\n",
    "for response in responses:\n",
    "    IPython.display.Markdown(response.text)"
   ]
  },
  {
   "cell_type": "markdown",
   "metadata": {
    "id": "OAJ-kBCZnlH_"
   },
   "source": [
    "### 11. Creating a Git Changelog Generator\n",
    "\n",
    "Understanding changes made between Git commits and highlighting the most important aspects of the changes."
   ]
  },
  {
   "cell_type": "code",
   "execution_count": 21,
   "metadata": {
    "id": "jdeWO8crnlH_"
   },
   "outputs": [
    {
     "data": {
      "text/markdown": [
       "The"
      ],
      "text/plain": [
       "<IPython.core.display.Markdown object>"
      ]
     },
     "execution_count": 21,
     "metadata": {},
     "output_type": "execute_result"
    },
    {
     "data": {
      "text/markdown": [
       " diff output shows a significant reduction in the size of the `node_modules`"
      ],
      "text/plain": [
       "<IPython.core.display.Markdown object>"
      ]
     },
     "execution_count": 21,
     "metadata": {},
     "output_type": "execute_result"
    },
    {
     "data": {
      "text/markdown": [
       " directory in the `src/currencyservice` directory. This is likely"
      ],
      "text/plain": [
       "<IPython.core.display.Markdown object>"
      ]
     },
     "execution_count": 21,
     "metadata": {},
     "output_type": "execute_result"
    },
    {
     "data": {
      "text/markdown": [
       " due to the removal of unnecessary dependencies and a downgrade of some dependencies to older versions. The specific changes include:\n",
       "\n",
       "* **Removal of:**\n",
       "    * `"
      ],
      "text/plain": [
       "<IPython.core.display.Markdown object>"
      ]
     },
     "execution_count": 21,
     "metadata": {},
     "output_type": "execute_result"
    },
    {
     "data": {
      "text/markdown": [
       "@babel/helper-string-parser`\n",
       "    * `@babel/helper-validator-identifier`\n",
       "    * `@babel/types`\n"
      ],
      "text/plain": [
       "<IPython.core.display.Markdown object>"
      ]
     },
     "execution_count": 21,
     "metadata": {},
     "output_type": "execute_result"
    },
    {
     "data": {
      "text/markdown": [
       "    * `@jsdoc/salty`\n",
       "    * `@types/glob`\n",
       "    * `@types/rimraf`\n",
       "    * `punycode.js`\n",
       "* **Downgrade of:**\n",
       "    "
      ],
      "text/plain": [
       "<IPython.core.display.Markdown object>"
      ]
     },
     "execution_count": 21,
     "metadata": {},
     "output_type": "execute_result"
    },
    {
     "data": {
      "text/markdown": [
       "* `@babel/parser` from 7.25.4 to 7.20.3\n",
       "    * `@types/linkify-it` from 5.0.0 to 3.0."
      ],
      "text/plain": [
       "<IPython.core.display.Markdown object>"
      ]
     },
     "execution_count": 21,
     "metadata": {},
     "output_type": "execute_result"
    },
    {
     "data": {
      "text/markdown": [
       "2\n",
       "    * `@types/markdown-it` from 14.1.2 to 12.2.3\n",
       "    * `@types/mdurl` from 2.0.0 to 1.0.2\n",
       "    * `entities` from 4.5."
      ],
      "text/plain": [
       "<IPython.core.display.Markdown object>"
      ]
     },
     "execution_count": 21,
     "metadata": {},
     "output_type": "execute_result"
    },
    {
     "data": {
      "text/markdown": [
       "0 to 2.1.0\n",
       "    * `eslint-visitor-keys` from 3.4.3 to 3.3.0\n",
       "    * `espree` from 9.6.1 to 9.4.1\n",
       "    * `google-gax` from "
      ],
      "text/plain": [
       "<IPython.core.display.Markdown object>"
      ]
     },
     "execution_count": 21,
     "metadata": {},
     "output_type": "execute_result"
    },
    {
     "data": {
      "text/markdown": [
       "3.6.1 to 3.5.2\n",
       "    * `google-gax`'s dependency `@grpc/grpc-js` from 1.8.22 to 1.7.3\n",
       "    * `graceful-fs` from 4.2.11 to"
      ],
      "text/plain": [
       "<IPython.core.display.Markdown object>"
      ]
     },
     "execution_count": 21,
     "metadata": {},
     "output_type": "execute_result"
    },
    {
     "data": {
      "text/markdown": [
       " 4.2.10\n",
       "    * `jsdoc` from 4.0.3 to 3.6.11\n",
       "    * `linkify-it` from 5.0.0 to 3.0.3\n",
       "    * `markdown-it` from 14"
      ],
      "text/plain": [
       "<IPython.core.display.Markdown object>"
      ]
     },
     "execution_count": 21,
     "metadata": {},
     "output_type": "execute_result"
    },
    {
     "data": {
      "text/markdown": [
       ".1.0 to 12.3.2\n",
       "    * `markdown-it-anchor` from 8.6.7 to 8.6.5\n",
       "    * `marked` from 4.3.0 to 4.2.3\n",
       "    * `mdurl` from"
      ],
      "text/plain": [
       "<IPython.core.display.Markdown object>"
      ]
     },
     "execution_count": 21,
     "metadata": {},
     "output_type": "execute_result"
    },
    {
     "data": {
      "text/markdown": [
       " 2.0.0 to 1.0.1\n",
       "    * `minimist` from 1.2.8 to 1.2.7\n",
       "    * `protobufjs` from 7.2.4 to 7.1.2\n",
       "    * `protobufjs-cli`"
      ],
      "text/plain": [
       "<IPython.core.display.Markdown object>"
      ]
     },
     "execution_count": 21,
     "metadata": {},
     "output_type": "execute_result"
    },
    {
     "data": {
      "text/markdown": [
       " from 1.1.1 to 1.0.2\n",
       "    * `tmp` from 0.2.3 to 0.2.1\n",
       "    * `uc.micro` from 2.1.0 to 1.0.6\n",
       "    * `uglify-js`"
      ],
      "text/plain": [
       "<IPython.core.display.Markdown object>"
      ]
     },
     "execution_count": 21,
     "metadata": {},
     "output_type": "execute_result"
    },
    {
     "data": {
      "text/markdown": [
       " from 3.19.2 to 3.17.4\n",
       "    * `underscore` from 1.13.7 to 1.13.6\n",
       "    * `word-wrap` from 1.2.5 to 1.2.4\n",
       "\n",
       "These changes likely"
      ],
      "text/plain": [
       "<IPython.core.display.Markdown object>"
      ]
     },
     "execution_count": 21,
     "metadata": {},
     "output_type": "execute_result"
    },
    {
     "data": {
      "text/markdown": [
       " result in a smaller and more efficient `currencyservice` application. \n"
      ],
      "text/plain": [
       "<IPython.core.display.Markdown object>"
      ]
     },
     "execution_count": 21,
     "metadata": {},
     "output_type": "execute_result"
    },
    {
     "data": {
      "text/markdown": [],
      "text/plain": [
       "<IPython.core.display.Markdown object>"
      ]
     },
     "execution_count": 21,
     "metadata": {},
     "output_type": "execute_result"
    }
   ],
   "source": [
    "### Fetches commit IDs from a local Git repository on a specified branch.\n",
    "\n",
    "repo = git.Repo(repo_dir)\n",
    "branch_name = \"main\"\n",
    "commit_ids = [\n",
    "    commit.hexsha for commit in repo.iter_commits(branch_name)\n",
    "]  # A list of commit IDs (SHA-1 hashes) in reverse chronological order (newest first)\n",
    "\n",
    "if len(commit_ids) >= 2:\n",
    "    diff_text = repo.git.diff(commit_ids[0], commit_ids[1])\n",
    "\n",
    "    question = \"\"\"\n",
    "      Given the above git diff output, Summarize the important changes made.\n",
    "    \"\"\"\n",
    "\n",
    "    prompt = diff_text + question + code_text\n",
    "    contents = [prompt]\n",
    "\n",
    "    responses = model.generate_content(contents, stream=True)\n",
    "    for response in responses:\n",
    "        IPython.display.Markdown(response.text)"
   ]
  },
  {
   "cell_type": "markdown",
   "metadata": {
    "id": "7kUeIBfGyoX7"
   },
   "source": [
    "## Conclusion\n",
    "\n",
    "In this tutorial, you've learned how to use the Gemini 1.5 Pro to analyze a codebase and prompt the model to:\n",
    "\n",
    "- Summarize codebases effortlessly.\n",
    "- Generate clear developer getting-started documentation.\n",
    "- Uncover critical bugs and provide fixes.\n",
    "- Implement new features and improve reliability and security.\n",
    "- Understanding changes made between Git commits"
   ]
  }
 ],
 "metadata": {
  "colab": {
   "provenance": []
  },
  "environment": {
   "kernel": "conda-base-py",
   "name": "workbench-notebooks.m123",
   "type": "gcloud",
   "uri": "us-docker.pkg.dev/deeplearning-platform-release/gcr.io/workbench-notebooks:m123"
  },
  "kernelspec": {
   "display_name": "Python 3 (ipykernel) (Local)",
   "language": "python",
   "name": "conda-base-py"
  },
  "language_info": {
   "codemirror_mode": {
    "name": "ipython",
    "version": 3
   },
   "file_extension": ".py",
   "mimetype": "text/x-python",
   "name": "python",
   "nbconvert_exporter": "python",
   "pygments_lexer": "ipython3",
   "version": "3.10.14"
  }
 },
 "nbformat": 4,
 "nbformat_minor": 4
}
